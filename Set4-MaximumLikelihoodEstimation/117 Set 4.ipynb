{
 "cells": [
  {
   "cell_type": "markdown",
   "metadata": {},
   "source": [
    "# Ge/Ay 117: Problem Set 4"
   ]
  },
  {
   "cell_type": "code",
   "execution_count": 3,
   "metadata": {},
   "outputs": [
    {
     "data": {
      "text/html": [
       "\n",
       "    <div class=\"bk-root\">\n",
       "        <a href=\"https://bokeh.org\" target=\"_blank\" class=\"bk-logo bk-logo-small bk-logo-notebook\"></a>\n",
       "        <span id=\"1002\">Loading BokehJS ...</span>\n",
       "    </div>"
      ]
     },
     "metadata": {},
     "output_type": "display_data"
    },
    {
     "data": {
      "application/javascript": [
       "\n",
       "(function(root) {\n",
       "  function now() {\n",
       "    return new Date();\n",
       "  }\n",
       "\n",
       "  var force = true;\n",
       "\n",
       "  if (typeof root._bokeh_onload_callbacks === \"undefined\" || force === true) {\n",
       "    root._bokeh_onload_callbacks = [];\n",
       "    root._bokeh_is_loading = undefined;\n",
       "  }\n",
       "\n",
       "  var JS_MIME_TYPE = 'application/javascript';\n",
       "  var HTML_MIME_TYPE = 'text/html';\n",
       "  var EXEC_MIME_TYPE = 'application/vnd.bokehjs_exec.v0+json';\n",
       "  var CLASS_NAME = 'output_bokeh rendered_html';\n",
       "\n",
       "  /**\n",
       "   * Render data to the DOM node\n",
       "   */\n",
       "  function render(props, node) {\n",
       "    var script = document.createElement(\"script\");\n",
       "    node.appendChild(script);\n",
       "  }\n",
       "\n",
       "  /**\n",
       "   * Handle when an output is cleared or removed\n",
       "   */\n",
       "  function handleClearOutput(event, handle) {\n",
       "    var cell = handle.cell;\n",
       "\n",
       "    var id = cell.output_area._bokeh_element_id;\n",
       "    var server_id = cell.output_area._bokeh_server_id;\n",
       "    // Clean up Bokeh references\n",
       "    if (id != null && id in Bokeh.index) {\n",
       "      Bokeh.index[id].model.document.clear();\n",
       "      delete Bokeh.index[id];\n",
       "    }\n",
       "\n",
       "    if (server_id !== undefined) {\n",
       "      // Clean up Bokeh references\n",
       "      var cmd = \"from bokeh.io.state import curstate; print(curstate().uuid_to_server['\" + server_id + \"'].get_sessions()[0].document.roots[0]._id)\";\n",
       "      cell.notebook.kernel.execute(cmd, {\n",
       "        iopub: {\n",
       "          output: function(msg) {\n",
       "            var id = msg.content.text.trim();\n",
       "            if (id in Bokeh.index) {\n",
       "              Bokeh.index[id].model.document.clear();\n",
       "              delete Bokeh.index[id];\n",
       "            }\n",
       "          }\n",
       "        }\n",
       "      });\n",
       "      // Destroy server and session\n",
       "      var cmd = \"import bokeh.io.notebook as ion; ion.destroy_server('\" + server_id + \"')\";\n",
       "      cell.notebook.kernel.execute(cmd);\n",
       "    }\n",
       "  }\n",
       "\n",
       "  /**\n",
       "   * Handle when a new output is added\n",
       "   */\n",
       "  function handleAddOutput(event, handle) {\n",
       "    var output_area = handle.output_area;\n",
       "    var output = handle.output;\n",
       "\n",
       "    // limit handleAddOutput to display_data with EXEC_MIME_TYPE content only\n",
       "    if ((output.output_type != \"display_data\") || (!output.data.hasOwnProperty(EXEC_MIME_TYPE))) {\n",
       "      return\n",
       "    }\n",
       "\n",
       "    var toinsert = output_area.element.find(\".\" + CLASS_NAME.split(' ')[0]);\n",
       "\n",
       "    if (output.metadata[EXEC_MIME_TYPE][\"id\"] !== undefined) {\n",
       "      toinsert[toinsert.length - 1].firstChild.textContent = output.data[JS_MIME_TYPE];\n",
       "      // store reference to embed id on output_area\n",
       "      output_area._bokeh_element_id = output.metadata[EXEC_MIME_TYPE][\"id\"];\n",
       "    }\n",
       "    if (output.metadata[EXEC_MIME_TYPE][\"server_id\"] !== undefined) {\n",
       "      var bk_div = document.createElement(\"div\");\n",
       "      bk_div.innerHTML = output.data[HTML_MIME_TYPE];\n",
       "      var script_attrs = bk_div.children[0].attributes;\n",
       "      for (var i = 0; i < script_attrs.length; i++) {\n",
       "        toinsert[toinsert.length - 1].firstChild.setAttribute(script_attrs[i].name, script_attrs[i].value);\n",
       "      }\n",
       "      // store reference to server id on output_area\n",
       "      output_area._bokeh_server_id = output.metadata[EXEC_MIME_TYPE][\"server_id\"];\n",
       "    }\n",
       "  }\n",
       "\n",
       "  function register_renderer(events, OutputArea) {\n",
       "\n",
       "    function append_mime(data, metadata, element) {\n",
       "      // create a DOM node to render to\n",
       "      var toinsert = this.create_output_subarea(\n",
       "        metadata,\n",
       "        CLASS_NAME,\n",
       "        EXEC_MIME_TYPE\n",
       "      );\n",
       "      this.keyboard_manager.register_events(toinsert);\n",
       "      // Render to node\n",
       "      var props = {data: data, metadata: metadata[EXEC_MIME_TYPE]};\n",
       "      render(props, toinsert[toinsert.length - 1]);\n",
       "      element.append(toinsert);\n",
       "      return toinsert\n",
       "    }\n",
       "\n",
       "    /* Handle when an output is cleared or removed */\n",
       "    events.on('clear_output.CodeCell', handleClearOutput);\n",
       "    events.on('delete.Cell', handleClearOutput);\n",
       "\n",
       "    /* Handle when a new output is added */\n",
       "    events.on('output_added.OutputArea', handleAddOutput);\n",
       "\n",
       "    /**\n",
       "     * Register the mime type and append_mime function with output_area\n",
       "     */\n",
       "    OutputArea.prototype.register_mime_type(EXEC_MIME_TYPE, append_mime, {\n",
       "      /* Is output safe? */\n",
       "      safe: true,\n",
       "      /* Index of renderer in `output_area.display_order` */\n",
       "      index: 0\n",
       "    });\n",
       "  }\n",
       "\n",
       "  // register the mime type if in Jupyter Notebook environment and previously unregistered\n",
       "  if (root.Jupyter !== undefined) {\n",
       "    var events = require('base/js/events');\n",
       "    var OutputArea = require('notebook/js/outputarea').OutputArea;\n",
       "\n",
       "    if (OutputArea.prototype.mime_types().indexOf(EXEC_MIME_TYPE) == -1) {\n",
       "      register_renderer(events, OutputArea);\n",
       "    }\n",
       "  }\n",
       "\n",
       "  \n",
       "  if (typeof (root._bokeh_timeout) === \"undefined\" || force === true) {\n",
       "    root._bokeh_timeout = Date.now() + 5000;\n",
       "    root._bokeh_failed_load = false;\n",
       "  }\n",
       "\n",
       "  var NB_LOAD_WARNING = {'data': {'text/html':\n",
       "     \"<div style='background-color: #fdd'>\\n\"+\n",
       "     \"<p>\\n\"+\n",
       "     \"BokehJS does not appear to have successfully loaded. If loading BokehJS from CDN, this \\n\"+\n",
       "     \"may be due to a slow or bad network connection. Possible fixes:\\n\"+\n",
       "     \"</p>\\n\"+\n",
       "     \"<ul>\\n\"+\n",
       "     \"<li>re-rerun `output_notebook()` to attempt to load from CDN again, or</li>\\n\"+\n",
       "     \"<li>use INLINE resources instead, as so:</li>\\n\"+\n",
       "     \"</ul>\\n\"+\n",
       "     \"<code>\\n\"+\n",
       "     \"from bokeh.resources import INLINE\\n\"+\n",
       "     \"output_notebook(resources=INLINE)\\n\"+\n",
       "     \"</code>\\n\"+\n",
       "     \"</div>\"}};\n",
       "\n",
       "  function display_loaded() {\n",
       "    var el = document.getElementById(\"1002\");\n",
       "    if (el != null) {\n",
       "      el.textContent = \"BokehJS is loading...\";\n",
       "    }\n",
       "    if (root.Bokeh !== undefined) {\n",
       "      if (el != null) {\n",
       "        el.textContent = \"BokehJS \" + root.Bokeh.version + \" successfully loaded.\";\n",
       "      }\n",
       "    } else if (Date.now() < root._bokeh_timeout) {\n",
       "      setTimeout(display_loaded, 100)\n",
       "    }\n",
       "  }\n",
       "\n",
       "\n",
       "  function run_callbacks() {\n",
       "    try {\n",
       "      root._bokeh_onload_callbacks.forEach(function(callback) {\n",
       "        if (callback != null)\n",
       "          callback();\n",
       "      });\n",
       "    } finally {\n",
       "      delete root._bokeh_onload_callbacks\n",
       "    }\n",
       "    console.debug(\"Bokeh: all callbacks have finished\");\n",
       "  }\n",
       "\n",
       "  function load_libs(css_urls, js_urls, callback) {\n",
       "    if (css_urls == null) css_urls = [];\n",
       "    if (js_urls == null) js_urls = [];\n",
       "\n",
       "    root._bokeh_onload_callbacks.push(callback);\n",
       "    if (root._bokeh_is_loading > 0) {\n",
       "      console.debug(\"Bokeh: BokehJS is being loaded, scheduling callback at\", now());\n",
       "      return null;\n",
       "    }\n",
       "    if (js_urls == null || js_urls.length === 0) {\n",
       "      run_callbacks();\n",
       "      return null;\n",
       "    }\n",
       "    console.debug(\"Bokeh: BokehJS not loaded, scheduling load and callback at\", now());\n",
       "    root._bokeh_is_loading = css_urls.length + js_urls.length;\n",
       "\n",
       "    function on_load() {\n",
       "      root._bokeh_is_loading--;\n",
       "      if (root._bokeh_is_loading === 0) {\n",
       "        console.debug(\"Bokeh: all BokehJS libraries/stylesheets loaded\");\n",
       "        run_callbacks()\n",
       "      }\n",
       "    }\n",
       "\n",
       "    function on_error() {\n",
       "      console.error(\"failed to load \" + url);\n",
       "    }\n",
       "\n",
       "    for (var i = 0; i < css_urls.length; i++) {\n",
       "      var url = css_urls[i];\n",
       "      const element = document.createElement(\"link\");\n",
       "      element.onload = on_load;\n",
       "      element.onerror = on_error;\n",
       "      element.rel = \"stylesheet\";\n",
       "      element.type = \"text/css\";\n",
       "      element.href = url;\n",
       "      console.debug(\"Bokeh: injecting link tag for BokehJS stylesheet: \", url);\n",
       "      document.body.appendChild(element);\n",
       "    }\n",
       "\n",
       "    for (var i = 0; i < js_urls.length; i++) {\n",
       "      var url = js_urls[i];\n",
       "      var element = document.createElement('script');\n",
       "      element.onload = on_load;\n",
       "      element.onerror = on_error;\n",
       "      element.async = false;\n",
       "      element.src = url;\n",
       "      console.debug(\"Bokeh: injecting script tag for BokehJS library: \", url);\n",
       "      document.head.appendChild(element);\n",
       "    }\n",
       "  };var element = document.getElementById(\"1002\");\n",
       "  if (element == null) {\n",
       "    console.error(\"Bokeh: ERROR: autoload.js configured with elementid '1002' but no matching script tag was found. \")\n",
       "    return false;\n",
       "  }\n",
       "\n",
       "  function inject_raw_css(css) {\n",
       "    const element = document.createElement(\"style\");\n",
       "    element.appendChild(document.createTextNode(css));\n",
       "    document.body.appendChild(element);\n",
       "  }\n",
       "\n",
       "  \n",
       "  var js_urls = [\"https://cdn.pydata.org/bokeh/release/bokeh-1.4.0.min.js\", \"https://cdn.pydata.org/bokeh/release/bokeh-widgets-1.4.0.min.js\", \"https://cdn.pydata.org/bokeh/release/bokeh-tables-1.4.0.min.js\", \"https://cdn.pydata.org/bokeh/release/bokeh-gl-1.4.0.min.js\"];\n",
       "  var css_urls = [];\n",
       "  \n",
       "\n",
       "  var inline_js = [\n",
       "    function(Bokeh) {\n",
       "      Bokeh.set_log_level(\"info\");\n",
       "    },\n",
       "    function(Bokeh) {\n",
       "    \n",
       "    \n",
       "    }\n",
       "  ];\n",
       "\n",
       "  function run_inline_js() {\n",
       "    \n",
       "    if (root.Bokeh !== undefined || force === true) {\n",
       "      \n",
       "    for (var i = 0; i < inline_js.length; i++) {\n",
       "      inline_js[i].call(root, root.Bokeh);\n",
       "    }\n",
       "    if (force === true) {\n",
       "        display_loaded();\n",
       "      }} else if (Date.now() < root._bokeh_timeout) {\n",
       "      setTimeout(run_inline_js, 100);\n",
       "    } else if (!root._bokeh_failed_load) {\n",
       "      console.log(\"Bokeh: BokehJS failed to load within specified timeout.\");\n",
       "      root._bokeh_failed_load = true;\n",
       "    } else if (force !== true) {\n",
       "      var cell = $(document.getElementById(\"1002\")).parents('.cell').data().cell;\n",
       "      cell.output_area.append_execute_result(NB_LOAD_WARNING)\n",
       "    }\n",
       "\n",
       "  }\n",
       "\n",
       "  if (root._bokeh_is_loading === 0) {\n",
       "    console.debug(\"Bokeh: BokehJS loaded, going straight to plotting\");\n",
       "    run_inline_js();\n",
       "  } else {\n",
       "    load_libs(css_urls, js_urls, function() {\n",
       "      console.debug(\"Bokeh: BokehJS plotting callback run at\", now());\n",
       "      run_inline_js();\n",
       "    });\n",
       "  }\n",
       "}(window));"
      ],
      "application/vnd.bokehjs_load.v0+json": "\n(function(root) {\n  function now() {\n    return new Date();\n  }\n\n  var force = true;\n\n  if (typeof root._bokeh_onload_callbacks === \"undefined\" || force === true) {\n    root._bokeh_onload_callbacks = [];\n    root._bokeh_is_loading = undefined;\n  }\n\n  \n\n  \n  if (typeof (root._bokeh_timeout) === \"undefined\" || force === true) {\n    root._bokeh_timeout = Date.now() + 5000;\n    root._bokeh_failed_load = false;\n  }\n\n  var NB_LOAD_WARNING = {'data': {'text/html':\n     \"<div style='background-color: #fdd'>\\n\"+\n     \"<p>\\n\"+\n     \"BokehJS does not appear to have successfully loaded. If loading BokehJS from CDN, this \\n\"+\n     \"may be due to a slow or bad network connection. Possible fixes:\\n\"+\n     \"</p>\\n\"+\n     \"<ul>\\n\"+\n     \"<li>re-rerun `output_notebook()` to attempt to load from CDN again, or</li>\\n\"+\n     \"<li>use INLINE resources instead, as so:</li>\\n\"+\n     \"</ul>\\n\"+\n     \"<code>\\n\"+\n     \"from bokeh.resources import INLINE\\n\"+\n     \"output_notebook(resources=INLINE)\\n\"+\n     \"</code>\\n\"+\n     \"</div>\"}};\n\n  function display_loaded() {\n    var el = document.getElementById(\"1002\");\n    if (el != null) {\n      el.textContent = \"BokehJS is loading...\";\n    }\n    if (root.Bokeh !== undefined) {\n      if (el != null) {\n        el.textContent = \"BokehJS \" + root.Bokeh.version + \" successfully loaded.\";\n      }\n    } else if (Date.now() < root._bokeh_timeout) {\n      setTimeout(display_loaded, 100)\n    }\n  }\n\n\n  function run_callbacks() {\n    try {\n      root._bokeh_onload_callbacks.forEach(function(callback) {\n        if (callback != null)\n          callback();\n      });\n    } finally {\n      delete root._bokeh_onload_callbacks\n    }\n    console.debug(\"Bokeh: all callbacks have finished\");\n  }\n\n  function load_libs(css_urls, js_urls, callback) {\n    if (css_urls == null) css_urls = [];\n    if (js_urls == null) js_urls = [];\n\n    root._bokeh_onload_callbacks.push(callback);\n    if (root._bokeh_is_loading > 0) {\n      console.debug(\"Bokeh: BokehJS is being loaded, scheduling callback at\", now());\n      return null;\n    }\n    if (js_urls == null || js_urls.length === 0) {\n      run_callbacks();\n      return null;\n    }\n    console.debug(\"Bokeh: BokehJS not loaded, scheduling load and callback at\", now());\n    root._bokeh_is_loading = css_urls.length + js_urls.length;\n\n    function on_load() {\n      root._bokeh_is_loading--;\n      if (root._bokeh_is_loading === 0) {\n        console.debug(\"Bokeh: all BokehJS libraries/stylesheets loaded\");\n        run_callbacks()\n      }\n    }\n\n    function on_error() {\n      console.error(\"failed to load \" + url);\n    }\n\n    for (var i = 0; i < css_urls.length; i++) {\n      var url = css_urls[i];\n      const element = document.createElement(\"link\");\n      element.onload = on_load;\n      element.onerror = on_error;\n      element.rel = \"stylesheet\";\n      element.type = \"text/css\";\n      element.href = url;\n      console.debug(\"Bokeh: injecting link tag for BokehJS stylesheet: \", url);\n      document.body.appendChild(element);\n    }\n\n    for (var i = 0; i < js_urls.length; i++) {\n      var url = js_urls[i];\n      var element = document.createElement('script');\n      element.onload = on_load;\n      element.onerror = on_error;\n      element.async = false;\n      element.src = url;\n      console.debug(\"Bokeh: injecting script tag for BokehJS library: \", url);\n      document.head.appendChild(element);\n    }\n  };var element = document.getElementById(\"1002\");\n  if (element == null) {\n    console.error(\"Bokeh: ERROR: autoload.js configured with elementid '1002' but no matching script tag was found. \")\n    return false;\n  }\n\n  function inject_raw_css(css) {\n    const element = document.createElement(\"style\");\n    element.appendChild(document.createTextNode(css));\n    document.body.appendChild(element);\n  }\n\n  \n  var js_urls = [\"https://cdn.pydata.org/bokeh/release/bokeh-1.4.0.min.js\", \"https://cdn.pydata.org/bokeh/release/bokeh-widgets-1.4.0.min.js\", \"https://cdn.pydata.org/bokeh/release/bokeh-tables-1.4.0.min.js\", \"https://cdn.pydata.org/bokeh/release/bokeh-gl-1.4.0.min.js\"];\n  var css_urls = [];\n  \n\n  var inline_js = [\n    function(Bokeh) {\n      Bokeh.set_log_level(\"info\");\n    },\n    function(Bokeh) {\n    \n    \n    }\n  ];\n\n  function run_inline_js() {\n    \n    if (root.Bokeh !== undefined || force === true) {\n      \n    for (var i = 0; i < inline_js.length; i++) {\n      inline_js[i].call(root, root.Bokeh);\n    }\n    if (force === true) {\n        display_loaded();\n      }} else if (Date.now() < root._bokeh_timeout) {\n      setTimeout(run_inline_js, 100);\n    } else if (!root._bokeh_failed_load) {\n      console.log(\"Bokeh: BokehJS failed to load within specified timeout.\");\n      root._bokeh_failed_load = true;\n    } else if (force !== true) {\n      var cell = $(document.getElementById(\"1002\")).parents('.cell').data().cell;\n      cell.output_area.append_execute_result(NB_LOAD_WARNING)\n    }\n\n  }\n\n  if (root._bokeh_is_loading === 0) {\n    console.debug(\"Bokeh: BokehJS loaded, going straight to plotting\");\n    run_inline_js();\n  } else {\n    load_libs(css_urls, js_urls, function() {\n      console.debug(\"Bokeh: BokehJS plotting callback run at\", now());\n      run_inline_js();\n    });\n  }\n}(window));"
     },
     "metadata": {},
     "output_type": "display_data"
    }
   ],
   "source": [
    "# import modules \n",
    "\n",
    "import numpy as np\n",
    "import pandas as pd\n",
    "from scipy.optimize import minimize\n",
    "from scipy import integrate\n",
    "from bokeh.plotting import figure, output_file, show\n",
    "from bokeh.io import output_notebook\n",
    "output_notebook()"
   ]
  },
  {
   "cell_type": "code",
   "execution_count": 4,
   "metadata": {},
   "outputs": [],
   "source": [
    "# import data\n",
    "\n",
    "rawData = pd.read_csv('ps4_data.txt', header = None ,sep = ' ')\n",
    "times = rawData[rawData.columns[0]].values\n",
    "obliqu = rawData[rawData.columns[1]].values\n",
    "obliqSig = rawData[rawData.columns[2]].values"
   ]
  },
  {
   "cell_type": "code",
   "execution_count": 5,
   "metadata": {},
   "outputs": [],
   "source": [
    "def obliFit(param,t):\n",
    "    A = param[0]\n",
    "    B = param[1]\n",
    "    P = param[2]\n",
    "    return A*np.sin(((2*np.pi)/P)*t) + B"
   ]
  },
  {
   "cell_type": "code",
   "execution_count": 6,
   "metadata": {},
   "outputs": [
    {
     "name": "stdout",
     "output_type": "stream",
     "text": [
      "Message: Optimization terminated successfully.\n",
      "Success?: True\n",
      "\n",
      "The covariance matrix is: \n",
      "[[ 8.43726305e-04  2.50152400e-05 -5.75944736e-02]\n",
      " [ 2.50152400e-05  4.08743205e-04 -6.46394709e-03]\n",
      " [-5.75944736e-02 -6.46394709e-03  2.48672321e+03]]\n",
      "\n",
      "[A, B, P] = [9.44920844e+00 2.47346882e+01 1.23466703e+05]\n",
      "\n",
      "Marginalized Error Bars: [2.90469672e-02 2.02173986e-02 4.98670553e+01]\n"
     ]
    }
   ],
   "source": [
    "def negLnLikelihood(param,t,obliq,obliq_err):\n",
    "    return -(np.sum(((-1/2)*np.power((obliFit(param,t)- obliq)/(obliq_err), 2))+np.log(1/(obliq_err*np.sqrt(2*np.pi)))))\n",
    "\n",
    "param_guess=np.array([15,25,125000]) # Put your initial guess here [A, B, P]\n",
    "\n",
    "minResult=minimize(negLnLikelihood,param_guess,args=(times,obliqu,obliqSig))\n",
    "\n",
    "bestFits = minResult.x\n",
    "invHess = minResult.hess_inv\n",
    "\n",
    "print('Message: {}'.format(minResult.message))\n",
    "print('Success?: {}\\n'.format(minResult.success))\n",
    "print('The covariance matrix is: \\n{}\\n'.format(invHess))\n",
    "print('[A, B, P] = {}\\n'.format(bestFits))\n",
    "print('Marginalized Error Bars: {}'.format(np.sqrt(invHess.diagonal())))"
   ]
  },
  {
   "cell_type": "code",
   "execution_count": 7,
   "metadata": {},
   "outputs": [
    {
     "data": {
      "text/html": [
       "\n",
       "\n",
       "\n",
       "\n",
       "\n",
       "\n",
       "  <div class=\"bk-root\" id=\"3c4435ff-2b70-4fda-9396-8ee122c96ba7\" data-root-id=\"1003\"></div>\n"
      ]
     },
     "metadata": {},
     "output_type": "display_data"
    },
    {
     "data": {
      "application/javascript": [
       "(function(root) {\n",
       "  function embed_document(root) {\n",
       "    \n",
       "  var docs_json = {\"1e4fc08b-ec92-44c7-9e54-facaf56350e2\":{\"roots\":{\"references\":[{\"attributes\":{\"below\":[{\"id\":\"1014\",\"type\":\"LinearAxis\"}],\"center\":[{\"id\":\"1018\",\"type\":\"Grid\"},{\"id\":\"1023\",\"type\":\"Grid\"}],\"left\":[{\"id\":\"1019\",\"type\":\"LinearAxis\"}],\"renderers\":[{\"id\":\"1036\",\"type\":\"GlyphRenderer\"},{\"id\":\"1041\",\"type\":\"GlyphRenderer\"}],\"title\":{\"id\":\"1004\",\"type\":\"Title\"},\"toolbar\":{\"id\":\"1028\",\"type\":\"Toolbar\"},\"x_range\":{\"id\":\"1006\",\"type\":\"DataRange1d\"},\"x_scale\":{\"id\":\"1010\",\"type\":\"LinearScale\"},\"y_range\":{\"id\":\"1008\",\"type\":\"DataRange1d\"},\"y_scale\":{\"id\":\"1012\",\"type\":\"LinearScale\"}},\"id\":\"1003\",\"subtype\":\"Figure\",\"type\":\"Plot\"},{\"attributes\":{\"line_alpha\":0.1,\"line_color\":\"#1f77b4\",\"line_width\":2,\"x\":{\"field\":\"x\"},\"y\":{\"field\":\"y\"}},\"id\":\"1040\",\"type\":\"Line\"},{\"attributes\":{},\"id\":\"1015\",\"type\":\"BasicTicker\"},{\"attributes\":{},\"id\":\"1020\",\"type\":\"BasicTicker\"},{\"attributes\":{\"text\":\"117 Set 4 Problem 1b\"},\"id\":\"1004\",\"type\":\"Title\"},{\"attributes\":{\"dimension\":1,\"ticker\":{\"id\":\"1020\",\"type\":\"BasicTicker\"}},\"id\":\"1023\",\"type\":\"Grid\"},{\"attributes\":{\"callback\":null,\"data\":{\"x\":{\"__ndarray__\":\"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\",\"dtype\":\"float64\",\"shape\":[500]},\"y\":{\"__ndarray__\":\"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\",\"dtype\":\"float64\",\"shape\":[500]}},\"selected\":{\"id\":\"1049\",\"type\":\"Selection\"},\"selection_policy\":{\"id\":\"1048\",\"type\":\"UnionRenderers\"}},\"id\":\"1033\",\"type\":\"ColumnDataSource\"},{\"attributes\":{\"fill_alpha\":{\"value\":0.1},\"fill_color\":{\"value\":\"#1f77b4\"},\"line_alpha\":{\"value\":0.1},\"line_color\":{\"value\":\"#1f77b4\"},\"x\":{\"field\":\"x\"},\"y\":{\"field\":\"y\"}},\"id\":\"1035\",\"type\":\"Circle\"},{\"attributes\":{\"ticker\":{\"id\":\"1015\",\"type\":\"BasicTicker\"}},\"id\":\"1018\",\"type\":\"Grid\"},{\"attributes\":{\"axis_label\":\"Time (yrs)\",\"formatter\":{\"id\":\"1044\",\"type\":\"BasicTickFormatter\"},\"ticker\":{\"id\":\"1015\",\"type\":\"BasicTicker\"}},\"id\":\"1014\",\"type\":\"LinearAxis\"},{\"attributes\":{\"fill_color\":{\"value\":\"#1f77b4\"},\"line_color\":{\"value\":\"#1f77b4\"},\"x\":{\"field\":\"x\"},\"y\":{\"field\":\"y\"}},\"id\":\"1034\",\"type\":\"Circle\"},{\"attributes\":{\"callback\":null},\"id\":\"1006\",\"type\":\"DataRange1d\"},{\"attributes\":{\"axis_label\":\"Obliquity (in degrees)\",\"formatter\":{\"id\":\"1046\",\"type\":\"BasicTickFormatter\"},\"ticker\":{\"id\":\"1020\",\"type\":\"BasicTicker\"}},\"id\":\"1019\",\"type\":\"LinearAxis\"},{\"attributes\":{\"line_width\":2,\"x\":{\"field\":\"x\"},\"y\":{\"field\":\"y\"}},\"id\":\"1039\",\"type\":\"Line\"},{\"attributes\":{\"bottom_units\":\"screen\",\"fill_alpha\":{\"value\":0.5},\"fill_color\":{\"value\":\"lightgrey\"},\"left_units\":\"screen\",\"level\":\"overlay\",\"line_alpha\":{\"value\":1.0},\"line_color\":{\"value\":\"black\"},\"line_dash\":[4,4],\"line_width\":{\"value\":2},\"render_mode\":\"css\",\"right_units\":\"screen\",\"top_units\":\"screen\"},\"id\":\"1052\",\"type\":\"BoxAnnotation\"},{\"attributes\":{\"source\":{\"id\":\"1033\",\"type\":\"ColumnDataSource\"}},\"id\":\"1037\",\"type\":\"CDSView\"},{\"attributes\":{},\"id\":\"1044\",\"type\":\"BasicTickFormatter\"},{\"attributes\":{},\"id\":\"1012\",\"type\":\"LinearScale\"},{\"attributes\":{},\"id\":\"1024\",\"type\":\"PanTool\"},{\"attributes\":{\"data_source\":{\"id\":\"1033\",\"type\":\"ColumnDataSource\"},\"glyph\":{\"id\":\"1034\",\"type\":\"Circle\"},\"hover_glyph\":null,\"muted_glyph\":null,\"nonselection_glyph\":{\"id\":\"1035\",\"type\":\"Circle\"},\"selection_glyph\":null,\"view\":{\"id\":\"1037\",\"type\":\"CDSView\"}},\"id\":\"1036\",\"type\":\"GlyphRenderer\"},{\"attributes\":{},\"id\":\"1010\",\"type\":\"LinearScale\"},{\"attributes\":{\"callback\":null,\"data\":{\"x\":{\"__ndarray__\":\"AAAAAAAAAACYU/ByCu6zQJhT8HIK7sNAZH1orA/lzUCYU/ByCu7TQH5orA+N6dhAZH1orA/l3UAlSZIkSXDhQJhT8HIK7uNAC15Owctr5kB+aKwPjenoQPFyCl5OZ+tAZH1orA/l7UDsQ2N9aDHwQCVJkiRJcPFAXk7Byymv8kCYU/ByCu7zQNJYHxrrLPVAC15Owctr9kBEY31orKr3QH5orA+N6fhAuG3btm0o+kDxcgpeTmf7QCp4OQUvpvxAZH1orA/l/UCegpdT8CP/QOxDY31oMQBBiMb60NjQAEElSZIkSXABQcLLKXi5DwJBXk7ByymvAkH70Fgfmk4DQZhT8HIK7gNBNdaHxnqNBEHSWB8a6ywFQW7btm1bzAVBC15OwctrBkGo4OUUPAsHQURjfWisqgdB4eUUvBxKCEF+aKwPjekIQRvrQ2P9iAlBuG3btm0oCkFU8HIK3scKQfFyCl5OZwtBjvWhsb4GDEEqeDkFL6YMQcf60FifRQ1BZH1orA/lDUEAAAAAgIQOQQ==\",\"dtype\":\"float64\",\"shape\":[50]},\"y\":{\"__ndarray__\":\"AAAAAAAAOUDMkyeaCM48QMe5vH0tLkBAfkwk47W3QUCP5FfF3+lCQHfkUWyksENAs2IJdwP/Q0C01kCR3M9DQGB2g0pFJkNAx2btcFUNQkC4cYxQbZdAQC+vjvsDuj1AZvjLlgf2OUDhsPBr8yE2QL5b2e3ifTJARW/WHZuNLkCrldK7E2UpQMwGOQGQ2CVA4tmaCH0jJEDl1qajcWIkQODsUKFPkSZAnH9KwoiLKkCNNJJsQQcwQNagBYb5XjNAauWNovMUN0CbGnJdDOs6QDNf+nkGoT5AvOW2SV/8QEAaYG3PHV1CQMrEqxesW0NAR0oWl2PnQ0CISdm9IPdDQEu+sf/biUNAk1oLEbumQkAqZIo4mVxBQDykJhIdgj9AGk8PlAzeO0CUBzRp+Ak4QNBQcQT8RTRAihznXiXRMEDaZEo8qsorQHgm8tXqZidAK6X8uo3AJEAzddoj8gMkQCduuE5uPSVAzW2g6oBYKEAOzm5zKCEtQHiMhgSlozFANmzYZfcxNUD+//////84QA==\",\"dtype\":\"float64\",\"shape\":[50]}},\"selected\":{\"id\":\"1051\",\"type\":\"Selection\"},\"selection_policy\":{\"id\":\"1050\",\"type\":\"UnionRenderers\"}},\"id\":\"1038\",\"type\":\"ColumnDataSource\"},{\"attributes\":{\"overlay\":{\"id\":\"1052\",\"type\":\"BoxAnnotation\"}},\"id\":\"1025\",\"type\":\"BoxZoomTool\"},{\"attributes\":{},\"id\":\"1048\",\"type\":\"UnionRenderers\"},{\"attributes\":{},\"id\":\"1026\",\"type\":\"ResetTool\"},{\"attributes\":{\"source\":{\"id\":\"1038\",\"type\":\"ColumnDataSource\"}},\"id\":\"1042\",\"type\":\"CDSView\"},{\"attributes\":{},\"id\":\"1046\",\"type\":\"BasicTickFormatter\"},{\"attributes\":{},\"id\":\"1050\",\"type\":\"UnionRenderers\"},{\"attributes\":{},\"id\":\"1051\",\"type\":\"Selection\"},{\"attributes\":{},\"id\":\"1027\",\"type\":\"SaveTool\"},{\"attributes\":{},\"id\":\"1049\",\"type\":\"Selection\"},{\"attributes\":{\"data_source\":{\"id\":\"1038\",\"type\":\"ColumnDataSource\"},\"glyph\":{\"id\":\"1039\",\"type\":\"Line\"},\"hover_glyph\":null,\"muted_glyph\":null,\"nonselection_glyph\":{\"id\":\"1040\",\"type\":\"Line\"},\"selection_glyph\":null,\"view\":{\"id\":\"1042\",\"type\":\"CDSView\"}},\"id\":\"1041\",\"type\":\"GlyphRenderer\"},{\"attributes\":{\"active_drag\":\"auto\",\"active_inspect\":\"auto\",\"active_multi\":null,\"active_scroll\":\"auto\",\"active_tap\":\"auto\",\"tools\":[{\"id\":\"1024\",\"type\":\"PanTool\"},{\"id\":\"1025\",\"type\":\"BoxZoomTool\"},{\"id\":\"1026\",\"type\":\"ResetTool\"},{\"id\":\"1027\",\"type\":\"SaveTool\"}]},\"id\":\"1028\",\"type\":\"Toolbar\"},{\"attributes\":{\"callback\":null},\"id\":\"1008\",\"type\":\"DataRange1d\"}],\"root_ids\":[\"1003\"]},\"title\":\"Bokeh Application\",\"version\":\"1.4.0\"}};\n",
       "  var render_items = [{\"docid\":\"1e4fc08b-ec92-44c7-9e54-facaf56350e2\",\"roots\":{\"1003\":\"3c4435ff-2b70-4fda-9396-8ee122c96ba7\"}}];\n",
       "  root.Bokeh.embed.embed_items_notebook(docs_json, render_items);\n",
       "\n",
       "  }\n",
       "  if (root.Bokeh !== undefined) {\n",
       "    embed_document(root);\n",
       "  } else {\n",
       "    var attempts = 0;\n",
       "    var timer = setInterval(function(root) {\n",
       "      if (root.Bokeh !== undefined) {\n",
       "        clearInterval(timer);\n",
       "        embed_document(root);\n",
       "      } else {\n",
       "        attempts++;\n",
       "        if (attempts > 100) {\n",
       "          clearInterval(timer);\n",
       "          console.log(\"Bokeh: ERROR: Unable to run BokehJS code because BokehJS library is missing\");\n",
       "        }\n",
       "      }\n",
       "    }, 10, root)\n",
       "  }\n",
       "})(window);"
      ],
      "application/vnd.bokehjs_exec.v0+json": ""
     },
     "metadata": {
      "application/vnd.bokehjs_exec.v0+json": {
       "id": "1003"
      }
     },
     "output_type": "display_data"
    }
   ],
   "source": [
    "x = times\n",
    "xMod = np.linspace(0,250000)\n",
    "y = obliqu\n",
    "\n",
    "\n",
    "p = figure(\n",
    "   tools=\"pan,box_zoom,reset,save\", title=\"117 Set 4 Problem 1b\",\n",
    "   x_axis_label='Time (yrs)', y_axis_label='Obliquity (in degrees)'\n",
    ")\n",
    "\n",
    "p.circle(x,y)\n",
    "p.line(xMod,obliFit(param_guess, xMod),color='black',line_width=2)\n",
    "\n",
    "show(p)"
   ]
  },
  {
   "cell_type": "code",
   "execution_count": 8,
   "metadata": {},
   "outputs": [],
   "source": [
    "paramErrs = np.sqrt(invHess.diagonal())\n",
    "\n",
    "def fitError(bestFits, paramErrs, t):\n",
    "    AFit = bestFits[0]\n",
    "    BFit = bestFits[1]\n",
    "    PFit = bestFits[2]\n",
    "    AFitErr = paramErrs[0]\n",
    "    BFitErr = paramErrs[1]\n",
    "    PFitErr = paramErrs[2]\n",
    "    return(np.sqrt(np.power(AFitErr*np.sin(2*np.pi*t/PFit), 2) + np.power(BFitErr, 2) + np.power(PFitErr*(-2*np.pi*AFit*np.cos(2*np.pi*t/PFit))/(np.power(PFit, 2)), 2)))\n"
   ]
  },
  {
   "cell_type": "code",
   "execution_count": 9,
   "metadata": {},
   "outputs": [],
   "source": [
    "fitErrs = []\n",
    "for i in range(len(times)):\n",
    "    fitErrs.append(float(fitError(bestFits,paramErrs,times[[i]])))\n",
    "    "
   ]
  },
  {
   "cell_type": "code",
   "execution_count": 10,
   "metadata": {},
   "outputs": [
    {
     "data": {
      "text/html": [
       "\n",
       "\n",
       "\n",
       "\n",
       "\n",
       "\n",
       "  <div class=\"bk-root\" id=\"0ab30684-ec00-4d5b-81e1-2954f117ce4e\" data-root-id=\"1113\"></div>\n"
      ]
     },
     "metadata": {},
     "output_type": "display_data"
    },
    {
     "data": {
      "application/javascript": [
       "(function(root) {\n",
       "  function embed_document(root) {\n",
       "    \n",
       "  var docs_json = {\"09f9c3d4-ef1d-4746-b00c-44a96822b42e\":{\"roots\":{\"references\":[{\"attributes\":{\"below\":[{\"id\":\"1124\",\"type\":\"LinearAxis\"}],\"center\":[{\"id\":\"1128\",\"type\":\"Grid\"},{\"id\":\"1133\",\"type\":\"Grid\"}],\"left\":[{\"id\":\"1129\",\"type\":\"LinearAxis\"}],\"renderers\":[{\"id\":\"1146\",\"type\":\"GlyphRenderer\"},{\"id\":\"1151\",\"type\":\"GlyphRenderer\"},{\"id\":\"1156\",\"type\":\"GlyphRenderer\"}],\"title\":{\"id\":\"1114\",\"type\":\"Title\"},\"toolbar\":{\"id\":\"1138\",\"type\":\"Toolbar\"},\"x_range\":{\"id\":\"1116\",\"type\":\"DataRange1d\"},\"x_scale\":{\"id\":\"1120\",\"type\":\"LinearScale\"},\"y_range\":{\"id\":\"1118\",\"type\":\"DataRange1d\"},\"y_scale\":{\"id\":\"1122\",\"type\":\"LinearScale\"}},\"id\":\"1113\",\"subtype\":\"Figure\",\"type\":\"Plot\"},{\"attributes\":{\"active_drag\":\"auto\",\"active_inspect\":\"auto\",\"active_multi\":null,\"active_scroll\":\"auto\",\"active_tap\":\"auto\",\"tools\":[{\"id\":\"1134\",\"type\":\"PanTool\"},{\"id\":\"1135\",\"type\":\"BoxZoomTool\"},{\"id\":\"1136\",\"type\":\"ResetTool\"},{\"id\":\"1137\",\"type\":\"SaveTool\"}]},\"id\":\"1138\",\"type\":\"Toolbar\"},{\"attributes\":{},\"id\":\"1120\",\"type\":\"LinearScale\"},{\"attributes\":{\"callback\":null},\"id\":\"1116\",\"type\":\"DataRange1d\"},{\"attributes\":{\"line_width\":2,\"x\":{\"field\":\"x\"},\"y\":{\"field\":\"y\"}},\"id\":\"1154\",\"type\":\"Line\"},{\"attributes\":{\"source\":{\"id\":\"1143\",\"type\":\"ColumnDataSource\"}},\"id\":\"1147\",\"type\":\"CDSView\"},{\"attributes\":{},\"id\":\"1177\",\"type\":\"UnionRenderers\"},{\"attributes\":{\"line_alpha\":{\"value\":0.1},\"line_color\":{\"value\":\"#1f77b4\"},\"xs\":{\"field\":\"xs\"},\"ys\":{\"field\":\"ys\"}},\"id\":\"1145\",\"type\":\"MultiLine\"},{\"attributes\":{},\"id\":\"1173\",\"type\":\"UnionRenderers\"},{\"attributes\":{\"callback\":null},\"id\":\"1118\",\"type\":\"DataRange1d\"},{\"attributes\":{\"data_source\":{\"id\":\"1143\",\"type\":\"ColumnDataSource\"},\"glyph\":{\"id\":\"1144\",\"type\":\"MultiLine\"},\"hover_glyph\":null,\"muted_glyph\":null,\"nonselection_glyph\":{\"id\":\"1145\",\"type\":\"MultiLine\"},\"selection_glyph\":null,\"view\":{\"id\":\"1147\",\"type\":\"CDSView\"}},\"id\":\"1146\",\"type\":\"GlyphRenderer\"},{\"attributes\":{\"callback\":null,\"data\":{\"x\":{\"__ndarray__\":\"AAAAAAAAAACYU/ByCu6zQJhT8HIK7sNAZH1orA/lzUCYU/ByCu7TQH5orA+N6dhAZH1orA/l3UAlSZIkSXDhQJhT8HIK7uNAC15Owctr5kB+aKwPjenoQPFyCl5OZ+tAZH1orA/l7UDsQ2N9aDHwQCVJkiRJcPFAXk7Byymv8kCYU/ByCu7zQNJYHxrrLPVAC15Owctr9kBEY31orKr3QH5orA+N6fhAuG3btm0o+kDxcgpeTmf7QCp4OQUvpvxAZH1orA/l/UCegpdT8CP/QOxDY31oMQBBiMb60NjQAEElSZIkSXABQcLLKXi5DwJBXk7ByymvAkH70Fgfmk4DQZhT8HIK7gNBNdaHxnqNBEHSWB8a6ywFQW7btm1bzAVBC15OwctrBkGo4OUUPAsHQURjfWisqgdB4eUUvBxKCEF+aKwPjekIQRvrQ2P9iAlBuG3btm0oCkFU8HIK3scKQfFyCl5OZwtBjvWhsb4GDEEqeDkFL6YMQcf60FifRQ1BZH1orA/lDUEAAAAAgIQOQQ==\",\"dtype\":\"float64\",\"shape\":[50]},\"y\":{\"__ndarray__\":\"XmKchhS8OEByLE94Hik7QHvfY6qGbD1AFu6W0HVfP0APLEbQPHBAQKShVWbh6kBAEEaP+G8XQUBanO3g6/JAQBYoksfHf0BAprQ5QXeLP0ApuAVtgKI9QLrTG0RyZTtAlmoVErf6OECpQqH8yIs2QBi6wzdqQjRASXKGZdhFMkDsCzsrK7gwQJEq3kEWaC9ARKfpptCVLkA6rzIIngcvQNImh7XuWjBA0oR4odvBMUCFztszhqAzQGAFWvTX1jVAf9cxMNo+OECUjGB6Qa86QPDGllUy/jxA4RN6hg8EP0DaXXzzEE9AQOukCxR22EBAg9MqSQEVQUC83G6SowBBQOOCO3G6nEBA6e2v9fDfP0CLGGPQ5As+QD9Pja+w3DtASebBKNF3OUCg/p/ZWwY3QFl1T1k+sjRAUyWdr26jMkCD4MONPf0wQDqsRIPwty9Aa/bGBwamLkBsvV5gGNcuQH7jSrbuIzBANL0HVM5vMUA5M5+z6zgzQFgiRDaiYDVAIcHw0vXBN0AMWOTIDTQ6QA==\",\"dtype\":\"float64\",\"shape\":[50]}},\"selected\":{\"id\":\"1178\",\"type\":\"Selection\"},\"selection_policy\":{\"id\":\"1177\",\"type\":\"UnionRenderers\"}},\"id\":\"1153\",\"type\":\"ColumnDataSource\"},{\"attributes\":{},\"id\":\"1122\",\"type\":\"LinearScale\"},{\"attributes\":{\"axis_label\":\"Obliquity (in degrees)\",\"formatter\":{\"id\":\"1171\",\"type\":\"BasicTickFormatter\"},\"ticker\":{\"id\":\"1130\",\"type\":\"BasicTicker\"}},\"id\":\"1129\",\"type\":\"LinearAxis\"},{\"attributes\":{\"axis_label\":\"Time (yrs)\",\"formatter\":{\"id\":\"1169\",\"type\":\"BasicTickFormatter\"},\"ticker\":{\"id\":\"1125\",\"type\":\"BasicTicker\"}},\"id\":\"1124\",\"type\":\"LinearAxis\"},{\"attributes\":{\"fill_alpha\":{\"value\":0.1},\"fill_color\":{\"value\":\"#1f77b4\"},\"line_alpha\":{\"value\":0.1},\"line_color\":{\"value\":\"#1f77b4\"},\"x\":{\"field\":\"x\"},\"y\":{\"field\":\"y\"}},\"id\":\"1150\",\"type\":\"Circle\"},{\"attributes\":{\"data_source\":{\"id\":\"1148\",\"type\":\"ColumnDataSource\"},\"glyph\":{\"id\":\"1149\",\"type\":\"Circle\"},\"hover_glyph\":null,\"muted_glyph\":null,\"nonselection_glyph\":{\"id\":\"1150\",\"type\":\"Circle\"},\"selection_glyph\":null,\"view\":{\"id\":\"1152\",\"type\":\"CDSView\"}},\"id\":\"1151\",\"type\":\"GlyphRenderer\"},{\"attributes\":{},\"id\":\"1125\",\"type\":\"BasicTicker\"},{\"attributes\":{},\"id\":\"1174\",\"type\":\"Selection\"},{\"attributes\":{\"ticker\":{\"id\":\"1125\",\"type\":\"BasicTicker\"}},\"id\":\"1128\",\"type\":\"Grid\"},{\"attributes\":{\"fill_color\":{\"value\":\"#1f77b4\"},\"line_color\":{\"value\":\"#1f77b4\"},\"x\":{\"field\":\"x\"},\"y\":{\"field\":\"y\"}},\"id\":\"1149\",\"type\":\"Circle\"},{\"attributes\":{},\"id\":\"1130\",\"type\":\"BasicTicker\"},{\"attributes\":{},\"id\":\"1175\",\"type\":\"UnionRenderers\"},{\"attributes\":{\"dimension\":1,\"ticker\":{\"id\":\"1130\",\"type\":\"BasicTicker\"}},\"id\":\"1133\",\"type\":\"Grid\"},{\"attributes\":{},\"id\":\"1171\",\"type\":\"BasicTickFormatter\"},{\"attributes\":{},\"id\":\"1178\",\"type\":\"Selection\"},{\"attributes\":{\"line_alpha\":0.1,\"line_color\":\"#1f77b4\",\"line_width\":2,\"x\":{\"field\":\"x\"},\"y\":{\"field\":\"y\"}},\"id\":\"1155\",\"type\":\"Line\"},{\"attributes\":{},\"id\":\"1176\",\"type\":\"Selection\"},{\"attributes\":{\"source\":{\"id\":\"1148\",\"type\":\"ColumnDataSource\"}},\"id\":\"1152\",\"type\":\"CDSView\"},{\"attributes\":{\"bottom_units\":\"screen\",\"fill_alpha\":{\"value\":0.5},\"fill_color\":{\"value\":\"lightgrey\"},\"left_units\":\"screen\",\"level\":\"overlay\",\"line_alpha\":{\"value\":1.0},\"line_color\":{\"value\":\"black\"},\"line_dash\":[4,4],\"line_width\":{\"value\":2},\"render_mode\":\"css\",\"right_units\":\"screen\",\"top_units\":\"screen\"},\"id\":\"1179\",\"type\":\"BoxAnnotation\"},{\"attributes\":{\"callback\":null,\"data\":{\"x\":{\"__ndarray__\":\"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\",\"dtype\":\"float64\",\"shape\":[500]},\"y\":{\"__ndarray__\":\"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\",\"dtype\":\"float64\",\"shape\":[500]}},\"selected\":{\"id\":\"1176\",\"type\":\"Selection\"},\"selection_policy\":{\"id\":\"1175\",\"type\":\"UnionRenderers\"}},\"id\":\"1148\",\"type\":\"ColumnDataSource\"},{\"attributes\":{\"data_source\":{\"id\":\"1153\",\"type\":\"ColumnDataSource\"},\"glyph\":{\"id\":\"1154\",\"type\":\"Line\"},\"hover_glyph\":null,\"muted_glyph\":null,\"nonselection_glyph\":{\"id\":\"1155\",\"type\":\"Line\"},\"selection_glyph\":null,\"view\":{\"id\":\"1157\",\"type\":\"CDSView\"}},\"id\":\"1156\",\"type\":\"GlyphRenderer\"},{\"attributes\":{},\"id\":\"1134\",\"type\":\"PanTool\"},{\"attributes\":{\"callback\":null,\"data\":{\"xs\":[[0.0,0.0],[501.0,501.0],[1002.0,1002.0],[1503.0,1503.0],[2004.0,2004.0],[2505.0,2505.0],[3006.0,3006.0],[3507.0,3507.0],[4008.0,4008.0],[4509.0,4509.0],[5010.0,5010.0],[5511.0,5511.0],[6012.0,6012.0],[6513.0,6513.0],[7014.0,7014.0],[7515.0,7515.0],[8016.0,8016.0],[8517.0,8517.0],[9018.0,9018.0],[9519.0,9519.0],[10020.0,10020.0],[10521.0,10521.0],[11022.0,11022.0],[11523.0,11523.0],[12024.0,12024.0],[12525.1,12525.1],[13026.1,13026.1],[13527.1,13527.1],[14028.1,14028.1],[14529.1,14529.1],[15030.1,15030.1],[15531.1,15531.1],[16032.1,16032.1],[16533.1,16533.1],[17034.1,17034.1],[17535.1,17535.1],[18036.1,18036.1],[18537.1,18537.1],[19038.1,19038.1],[19539.1,19539.1],[20040.1,20040.1],[20541.1,20541.1],[21042.1,21042.1],[21543.1,21543.1],[22044.1,22044.1],[22545.1,22545.1],[23046.1,23046.1],[23547.1,23547.1],[24048.1,24048.1],[24549.1,24549.1],[25050.1,25050.1],[25551.1,25551.1],[26052.1,26052.1],[26553.1,26553.1],[27054.1,27054.1],[27555.1,27555.1],[28056.1,28056.1],[28557.1,28557.1],[29058.1,29058.1],[29559.1,29559.1],[30060.1,30060.1],[30561.1,30561.1],[31062.1,31062.1],[31563.1,31563.1],[32064.1,32064.1],[32565.1,32565.1],[33066.1,33066.1],[33567.1,33567.1],[34068.1,34068.1],[34569.1,34569.1],[35070.1,35070.1],[35571.1,35571.1],[36072.1,36072.1],[36573.1,36573.1],[37074.1,37074.1],[37575.2,37575.2],[38076.2,38076.2],[38577.2,38577.2],[39078.2,39078.2],[39579.2,39579.2],[40080.2,40080.2],[40581.2,40581.2],[41082.2,41082.2],[41583.2,41583.2],[42084.2,42084.2],[42585.2,42585.2],[43086.2,43086.2],[43587.2,43587.2],[44088.2,44088.2],[44589.2,44589.2],[45090.2,45090.2],[45591.2,45591.2],[46092.2,46092.2],[46593.2,46593.2],[47094.2,47094.2],[47595.2,47595.2],[48096.2,48096.2],[48597.2,48597.2],[49098.2,49098.2],[49599.2,49599.2],[50100.2,50100.2],[50601.2,50601.2],[51102.2,51102.2],[51603.2,51603.2],[52104.2,52104.2],[52605.2,52605.2],[53106.2,53106.2],[53607.2,53607.2],[54108.2,54108.2],[54609.2,54609.2],[55110.2,55110.2],[55611.2,55611.2],[56112.2,56112.2],[56613.2,56613.2],[57114.2,57114.2],[57615.2,57615.2],[58116.2,58116.2],[58617.2,58617.2],[59118.2,59118.2],[59619.2,59619.2],[60120.2,60120.2],[60621.2,60621.2],[61122.2,61122.2],[61623.2,61623.2],[62124.2,62124.2],[62625.3,62625.3],[63126.3,63126.3],[63627.3,63627.3],[64128.3,64128.3],[64629.3,64629.3],[65130.3,65130.3],[65631.3,65631.3],[66132.3,66132.3],[66633.3,66633.3],[67134.3,67134.3],[67635.3,67635.3],[68136.3,68136.3],[68637.3,68637.3],[69138.3,69138.3],[69639.3,69639.3],[70140.3,70140.3],[70641.3,70641.3],[71142.3,71142.3],[71643.3,71643.3],[72144.3,72144.3],[72645.3,72645.3],[73146.3,73146.3],[73647.3,73647.3],[74148.3,74148.3],[74649.3,74649.3],[75150.3,75150.3],[75651.3,75651.3],[76152.3,76152.3],[76653.3,76653.3],[77154.3,77154.3],[77655.3,77655.3],[78156.3,78156.3],[78657.3,78657.3],[79158.3,79158.3],[79659.3,79659.3],[80160.3,80160.3],[80661.3,80661.3],[81162.3,81162.3],[81663.3,81663.3],[82164.3,82164.3],[82665.3,82665.3],[83166.3,83166.3],[83667.3,83667.3],[84168.3,84168.3],[84669.3,84669.3],[85170.3,85170.3],[85671.3,85671.3],[86172.3,86172.3],[86673.3,86673.3],[87174.3,87174.3],[87675.4,87675.4],[88176.4,88176.4],[88677.4,88677.4],[89178.4,89178.4],[89679.4,89679.4],[90180.4,90180.4],[90681.4,90681.4],[91182.4,91182.4],[91683.4,91683.4],[92184.4,92184.4],[92685.4,92685.4],[93186.4,93186.4],[93687.4,93687.4],[94188.4,94188.4],[94689.4,94689.4],[95190.4,95190.4],[95691.4,95691.4],[96192.4,96192.4],[96693.4,96693.4],[97194.4,97194.4],[97695.4,97695.4],[98196.4,98196.4],[98697.4,98697.4],[99198.4,99198.4],[99699.4,99699.4],[100200.4,100200.4],[100701.4,100701.4],[101202.4,101202.4],[101703.4,101703.4],[102204.4,102204.4],[102705.4,102705.4],[103206.4,103206.4],[103707.4,103707.4],[104208.4,104208.4],[104709.4,104709.4],[105210.4,105210.4],[105711.4,105711.4],[106212.4,106212.4],[106713.4,106713.4],[107214.4,107214.4],[107715.4,107715.4],[108216.4,108216.4],[108717.4,108717.4],[109218.4,109218.4],[109719.4,109719.4],[110220.4,110220.4],[110721.4,110721.4],[111222.4,111222.4],[111723.4,111723.4],[112224.4,112224.4],[112725.5,112725.5],[113226.5,113226.5],[113727.5,113727.5],[114228.5,114228.5],[114729.5,114729.5],[115230.5,115230.5],[115731.5,115731.5],[116232.5,116232.5],[116733.5,116733.5],[117234.5,117234.5],[117735.5,117735.5],[118236.5,118236.5],[118737.5,118737.5],[119238.5,119238.5],[119739.5,119739.5],[120240.5,120240.5],[120741.5,120741.5],[121242.5,121242.5],[121743.5,121743.5],[122244.5,122244.5],[122745.5,122745.5],[123246.5,123246.5],[123747.5,123747.5],[124248.5,124248.5],[124749.5,124749.5],[125250.5,125250.5],[125751.5,125751.5],[126252.5,126252.5],[126753.5,126753.5],[127254.5,127254.5],[127755.5,127755.5],[128256.5,128256.5],[128757.5,128757.5],[129258.5,129258.5],[129759.5,129759.5],[130260.5,130260.5],[130761.5,130761.5],[131262.5,131262.5],[131763.5,131763.5],[132264.5,132264.5],[132765.5,132765.5],[133266.5,133266.5],[133767.5,133767.5],[134268.5,134268.5],[134769.5,134769.5],[135270.5,135270.5],[135771.5,135771.5],[136272.5,136272.5],[136773.5,136773.5],[137274.5,137274.5],[137775.6,137775.6],[138276.6,138276.6],[138777.6,138777.6],[139278.6,139278.6],[139779.6,139779.6],[140280.6,140280.6],[140781.6,140781.6],[141282.6,141282.6],[141783.6,141783.6],[142284.6,142284.6],[142785.6,142785.6],[143286.6,143286.6],[143787.6,143787.6],[144288.6,144288.6],[144789.6,144789.6],[145290.6,145290.6],[145791.6,145791.6],[146292.6,146292.6],[146793.6,146793.6],[147294.6,147294.6],[147795.6,147795.6],[148296.6,148296.6],[148797.6,148797.6],[149298.6,149298.6],[149799.6,149799.6],[150300.6,150300.6],[150801.6,150801.6],[151302.6,151302.6],[151803.6,151803.6],[152304.6,152304.6],[152805.6,152805.6],[153306.6,153306.6],[153807.6,153807.6],[154308.6,154308.6],[154809.6,154809.6],[155310.6,155310.6],[155811.6,155811.6],[156312.6,156312.6],[156813.6,156813.6],[157314.6,157314.6],[157815.6,157815.6],[158316.6,158316.6],[158817.6,158817.6],[159318.6,159318.6],[159819.6,159819.6],[160320.6,160320.6],[160821.6,160821.6],[161322.6,161322.6],[161823.6,161823.6],[162324.6,162324.6],[162825.7,162825.7],[163326.7,163326.7],[163827.7,163827.7],[164328.7,164328.7],[164829.7,164829.7],[165330.7,165330.7],[165831.7,165831.7],[166332.7,166332.7],[166833.7,166833.7],[167334.7,167334.7],[167835.7,167835.7],[168336.7,168336.7],[168837.7,168837.7],[169338.7,169338.7],[169839.7,169839.7],[170340.7,170340.7],[170841.7,170841.7],[171342.7,171342.7],[171843.7,171843.7],[172344.7,172344.7],[172845.7,172845.7],[173346.7,173346.7],[173847.7,173847.7],[174348.7,174348.7],[174849.7,174849.7],[175350.7,175350.7],[175851.7,175851.7],[176352.7,176352.7],[176853.7,176853.7],[177354.7,177354.7],[177855.7,177855.7],[178356.7,178356.7],[178857.7,178857.7],[179358.7,179358.7],[179859.7,179859.7],[180360.7,180360.7],[180861.7,180861.7],[181362.7,181362.7],[181863.7,181863.7],[182364.7,182364.7],[182865.7,182865.7],[183366.7,183366.7],[183867.7,183867.7],[184368.7,184368.7],[184869.7,184869.7],[185370.7,185370.7],[185871.7,185871.7],[186372.7,186372.7],[186873.7,186873.7],[187374.7,187374.7],[187875.8,187875.8],[188376.8,188376.8],[188877.8,188877.8],[189378.8,189378.8],[189879.8,189879.8],[190380.8,190380.8],[190881.8,190881.8],[191382.8,191382.8],[191883.8,191883.8],[192384.8,192384.8],[192885.8,192885.8],[193386.8,193386.8],[193887.8,193887.8],[194388.8,194388.8],[194889.8,194889.8],[195390.8,195390.8],[195891.8,195891.8],[196392.8,196392.8],[196893.8,196893.8],[197394.8,197394.8],[197895.8,197895.8],[198396.8,198396.8],[198897.8,198897.8],[199398.8,199398.8],[199899.8,199899.8],[200400.8,200400.8],[200901.8,200901.8],[201402.8,201402.8],[201903.8,201903.8],[202404.8,202404.8],[202905.8,202905.8],[203406.8,203406.8],[203907.8,203907.8],[204408.8,204408.8],[204909.8,204909.8],[205410.8,205410.8],[205911.8,205911.8],[206412.8,206412.8],[206913.8,206913.8],[207414.8,207414.8],[207915.8,207915.8],[208416.8,208416.8],[208917.8,208917.8],[209418.8,209418.8],[209919.8,209919.8],[210420.8,210420.8],[210921.8,210921.8],[211422.8,211422.8],[211923.8,211923.8],[212424.8,212424.8],[212925.9,212925.9],[213426.9,213426.9],[213927.9,213927.9],[214428.9,214428.9],[214929.9,214929.9],[215430.9,215430.9],[215931.9,215931.9],[216432.9,216432.9],[216933.9,216933.9],[217434.9,217434.9],[217935.9,217935.9],[218436.9,218436.9],[218937.9,218937.9],[219438.9,219438.9],[219939.9,219939.9],[220440.9,220440.9],[220941.9,220941.9],[221442.9,221442.9],[221943.9,221943.9],[222444.9,222444.9],[222945.9,222945.9],[223446.9,223446.9],[223947.9,223947.9],[224448.9,224448.9],[224949.9,224949.9],[225450.9,225450.9],[225951.9,225951.9],[226452.9,226452.9],[226953.9,226953.9],[227454.9,227454.9],[227955.9,227955.9],[228456.9,228456.9],[228957.9,228957.9],[229458.9,229458.9],[229959.9,229959.9],[230460.9,230460.9],[230961.9,230961.9],[231462.9,231462.9],[231963.9,231963.9],[232464.9,232464.9],[232965.9,232965.9],[233466.9,233466.9],[233967.9,233967.9],[234468.9,234468.9],[234969.9,234969.9],[235470.9,235470.9],[235971.9,235971.9],[236472.9,236472.9],[236973.9,236973.9],[237474.9,237474.9],[237976.0,237976.0],[238477.0,238477.0],[238978.0,238978.0],[239479.0,239479.0],[239980.0,239980.0],[240481.0,240481.0],[240982.0,240982.0],[241483.0,241483.0],[241984.0,241984.0],[242485.0,242485.0],[242986.0,242986.0],[243487.0,243487.0],[243988.0,243988.0],[244489.0,244489.0],[244990.0,244990.0],[245491.0,245491.0],[245992.0,245992.0],[246493.0,246493.0],[246994.0,246994.0],[247495.0,247495.0],[247996.0,247996.0],[248497.0,248497.0],[248998.0,248998.0],[249499.0,249499.0],[250000.0,250000.0]],\"ys\":[[27.79,29.252000000000002],[31.537,32.799],[23.609,24.363],[38.282000000000004,39.186],[37.409,38.803000000000004],[33.046,33.516],[21.813999999999997,22.779999999999998],[18.235,19.244999999999997],[33.444,35.257999999999996],[21.641000000000002,22.867],[20.25,21.380000000000003],[16.128999999999998,16.942999999999998],[32.139,32.671],[42.228,43.931999999999995],[15.748000000000001,16.712],[32.958000000000006,33.478],[46.648,47.538000000000004],[20.451999999999998,21.482],[23.848999999999997,25.613],[18.393,18.857],[10.638000000000002,12.510000000000002],[22.698999999999998,23.705],[23.116,24.366],[18.221999999999998,19.962],[19.417,21.025],[33.841,34.717000000000006],[25.956000000000003,27.39],[17.197,18.794999999999998],[21.616000000000003,23.59],[44.549,45.585],[20.805,22.125],[27.485999999999997,29.445999999999998],[35.303,36.697],[41.065,41.691],[38.801,39.681],[47.085,48.665],[44.31,44.976],[38.391000000000005,40.387],[38.986,40.044000000000004],[36.796,38.594],[20.991,22.015],[15.347000000000001,15.933],[26.591,28.583],[26.302999999999997,28.119],[48.08,49.226],[22.657,24.523],[34.551,35.681],[50.840999999999994,52.577],[38.471000000000004,40.113],[32.838,33.266],[38.043,38.910999999999994],[38.265,39.135000000000005],[37.463,38.556999999999995],[37.434,39.146],[35.726,37.128],[40.608,42.356],[14.661000000000001,15.323],[33.06400000000001,34.212],[35.303,36.510999999999996],[37.202999999999996,37.659],[28.831,30.409000000000002],[28.414,28.942],[27.68,28.823999999999998],[33.251,34.568999999999996],[41.812999999999995,42.287],[37.97,39.288],[22.76,24.686000000000003],[29.976,30.716],[30.455,30.998999999999995],[49.728,50.454],[28.834,29.998],[26.624,28.368],[36.043,37.589000000000006],[38.190999999999995,40.115],[37.918000000000006,39.858000000000004],[35.916999999999994,36.836999999999996],[28.796,30.766],[35.45100000000001,37.185],[18.439999999999998,18.97],[42.365,42.769],[32.163000000000004,34.145],[34.216,35.434000000000005],[36.032000000000004,37.698],[27.332,29.024],[44.487,45.535000000000004],[23.532,24.354000000000003],[18.914,19.450000000000003],[33.467000000000006,34.543],[30.338,32.198],[26.547,28.089000000000002],[17.637999999999998,18.28],[39.687999999999995,41.228],[37.723,39.260999999999996],[10.972,12.903999999999998],[34.638,36.594],[21.339,21.801000000000002],[29.977999999999998,30.684],[37.612,39.118],[39.427,40.321000000000005],[22.18,23.421999999999997],[27.835,29.161],[32.08800000000001,32.688],[24.331,24.950999999999997],[31.376,32.422000000000004],[34.261,34.799],[31.548000000000002,33.39],[30.246000000000002,31.86],[21.768,22.744],[28.266000000000002,30.072],[40.823,42.817],[28.771,30.649],[16.575,17.291],[32.707,33.63100000000001],[27.898999999999997,29.733],[42.376,43.077999999999996],[6.573,8.307],[38.742,39.967999999999996],[44.181,44.742999999999995],[29.509,30.363],[14.974,16.92],[17.192,19.144],[29.479000000000003,31.221],[18.464000000000002,19.136],[33.813,35.789],[24.999,26.321],[28.364,29.806],[26.261,27.397000000000002],[17.967999999999996,19.604],[33.938,35.620000000000005],[16.021,16.756999999999998],[20.891,21.823],[24.776000000000003,25.744],[8.081999999999999,9.203999999999999],[6.269,7.491],[15.886,16.608],[1.9180000000000001,2.9880000000000004],[11.447000000000001,12.351],[18.425,20.135],[28.467000000000002,29.379],[14.357999999999999,14.998],[18.479000000000003,20.279],[23.197,24.005],[31.781999999999996,33.081999999999994],[-9.915000000000001,-8.847],[19.511999999999997,21.334],[21.892,23.301999999999996],[28.217,28.955],[40.799,42.791000000000004],[12.711,13.302999999999999],[25.475,26.671],[13.246000000000002,14.062000000000001],[15.228,16.052],[18.076999999999998,19.771],[29.424000000000003,31.096],[23.166,24.324],[12.817,13.323],[1.7280000000000002,3.464],[22.573,24.247],[15.206000000000001,16.878],[14.356000000000002,15.178],[24.99,26.334],[19.543,20.615000000000002],[8.089,9.625000000000002],[10.508000000000001,12.138],[31.503000000000004,32.757000000000005],[31.073999999999998,32.656],[2.715,4.187],[3.893,4.377],[23.061999999999998,24.448],[17.703,18.252999999999997],[13.712,14.573999999999998],[8.435,9.845],[29.183,30.979],[14.107000000000001,15.879],[18.198,18.668],[23.636,24.092000000000002],[8.288,9.456],[-1.546,-0.784],[23.378999999999998,24.644999999999996],[2.1710000000000003,2.865],[1.9700000000000002,2.488],[29.866,31.372],[7.18,8.904],[15.209999999999999,16.302],[16.347,18.229],[11.83,13.328000000000001],[19.2,19.724],[24.707,26.249000000000002],[29.316,29.715999999999998],[10.344000000000001,11.18],[18.039,18.973],[17.496,19.066],[13.585999999999999,14.956],[12.249,13.455],[7.486,8.854],[1.329,2.891],[11.633000000000001,13.421000000000001],[9.449,11.302999999999999],[20.063000000000002,21.405],[14.602999999999998,16.339],[6.2010000000000005,7.901],[14.727999999999998,16.494],[21.747,22.683],[13.928,15.266000000000002],[13.32,13.73],[2.492,4.282],[24.317,24.991],[11.849,13.741],[30.119,31.961],[15.924999999999999,17.813],[25.305000000000003,27.123],[14.457,15.177],[19.024,20.114000000000004],[8.79,10.225999999999999],[10.495000000000001,12.423000000000002],[16.304,17.66],[17.796,19.408],[17.956,19.142],[19.714000000000002,21.584],[14.202000000000002,15.106000000000002],[25.198,27.009999999999998],[9.565999999999999,10.07],[27.455,28.725],[16.668,18.146],[23.033,23.563000000000002],[22.507,23.583000000000002],[7.878999999999999,9.066999999999998],[23.621000000000002,24.637],[27.605999999999998,28.306],[14.100000000000001,15.564],[20.862,21.516000000000002],[8.023,8.591000000000001],[27.355999999999998,28.584],[16.073999999999998,17.906],[21.76,23.388],[25.803,27.294999999999998],[16.675,18.233],[21.609,23.281],[36.685,38.083],[26.441999999999997,27.322],[27.497999999999998,28.433999999999997],[12.384,13.36],[9.903999999999998,11.562],[18.860000000000003,20.248],[13.276000000000002,14.868],[13.407,14.009],[36.638,37.096],[9.619,10.375],[13.729000000000001,14.369000000000002],[12.947,14.599],[18.886,19.764],[14.540000000000001,16.358],[19.521,21.423000000000002],[28.692,29.396],[27.162,28.421999999999997],[16.648000000000003,18.622],[19.66,20.996],[23.045,24.975],[28.536,29.284],[25.084999999999997,25.688999999999997],[18.88,19.48],[25.018,26.372],[27.55,28.88],[39.682,40.452],[32.663,33.563],[23.202,24.956],[21.826,22.278],[25.814,27.124000000000002],[32.384,33.976],[30.524,31.732],[25.203000000000003,26.177],[35.147999999999996,36.28],[41.905,43.149],[32.701,33.690999999999995],[42.297000000000004,43.785000000000004],[29.404999999999998,30.395],[36.711999999999996,37.339999999999996],[28.914,30.274],[33.228,34.467999999999996],[32.001999999999995,32.878],[34.34,34.848],[45.153,45.977],[28.813,29.455000000000002],[27.554000000000002,28.984],[54.837,56.185],[36.802,37.660000000000004],[28.558,29.842],[39.187,39.861000000000004],[35.590999999999994,36.527],[37.472,39.35],[36.794,37.548],[31.187,32.189],[36.376000000000005,38.092],[31.579,32.541000000000004],[38.604000000000006,39.374],[31.2,32.724],[47.166000000000004,48.526],[39.407000000000004,40.147],[25.113999999999997,26.589999999999996],[42.79999999999999,44.217999999999996],[35.172,36.926],[30.057,30.651],[38.019,39.659],[29.830000000000002,30.52],[39.014,39.802],[36.555,37.469],[34.561,35.761],[20.644,22.484],[35.384,37.087999999999994],[38.237,39.103],[30.916999999999998,31.837],[39.848,41.084],[28.971,29.989],[28.559,29.787000000000003],[40.974999999999994,42.82299999999999],[39.074000000000005,40.582],[36.476000000000006,37.472],[34.835,36.555],[27.096,28.916],[34.79599999999999,36.598],[29.560000000000002,31.162],[41.589,42.867000000000004],[34.007,35.214999999999996],[41.230999999999995,42.417],[22.179,23.203],[43.493,43.949000000000005],[33.385000000000005,34.491],[20.996,22.237999999999996],[37.593,39.211],[24.732,26.137999999999998],[28.675,30.483],[36.464,37.34],[27.364,27.798],[49.65200000000001,51.160000000000004],[30.076999999999998,31.134999999999998],[35.077999999999996,36.972],[39.804,41.688],[33.259,34.834999999999994],[31.459999999999997,33.419999999999995],[38.792,39.635999999999996],[28.331,28.995],[29.884,30.668],[42.784,43.672000000000004],[35.922000000000004,37.624],[28.013,29.663],[28.343999999999998,29.56],[31.387,33.223],[7.353999999999999,8.392],[25.945999999999998,27.238],[32.429,33.361000000000004],[24.365,25.999],[33.579,35.061],[37.053000000000004,38.079],[24.891,26.783],[22.925,23.385],[24.005000000000003,24.533],[21.506,21.924],[16.590999999999998,17.840999999999998],[20.177999999999997,21.573999999999998],[20.641000000000002,22.169],[34.644999999999996,35.718999999999994],[16.57,17.444000000000003],[20.784,21.47],[21.634999999999998,22.918999999999997],[31.268,32.25],[30.475,31.811],[23.55,25.09],[44.623000000000005,45.747],[35.2,35.8],[26.458,27.135999999999996],[29.623,31.163],[17.284000000000002,17.73],[0.9079999999999999,2.764],[27.438000000000002,28.678000000000004],[36.016999999999996,36.819],[14.614,15.796],[31.076999999999998,31.994999999999997],[14.678999999999998,15.082999999999998],[29.123999999999995,30.15],[18.409000000000002,20.239],[36.611,37.269],[20.703,21.379],[14.615,15.435],[14.137,15.617],[19.918999999999997,20.741],[25.665000000000003,26.511],[27.365000000000002,28.671],[20.091,21.391],[26.214000000000002,27.402000000000005],[11.182,12.203999999999999],[4.3660000000000005,5.696000000000001],[9.348,11.182],[10.27,11.561999999999998],[9.531,11.473],[22.889999999999997,24.352],[27.953,28.368999999999996],[16.278,16.933999999999997],[13.301,14.519],[20.996,21.605999999999998],[10.862,11.708],[28.176999999999996,29.017],[23.311999999999998,23.86],[12.904,14.434000000000001],[10.8,12.024000000000001],[34.351000000000006,34.847],[14.981000000000002,15.483],[12.665000000000001,14.219],[18.633,20.251],[15.722,17.59],[32.298,34.19],[25.226000000000003,25.91],[8.161999999999999,8.776],[26.368000000000002,27.732],[6.126,6.944],[11.533999999999999,12.948],[4.062,4.830000000000001],[20.401,22.007],[22.118999999999996,24.014999999999997],[2.796,3.254],[19.946,20.63],[23.396,23.862000000000002],[9.17,11.112],[11.172,11.969999999999999],[26.082,26.658],[10.331,11.233],[11.98,13.448],[21.379,22.127],[17.812,18.496],[17.565,18.855],[14.623000000000001,16.387],[11.965,12.489],[28.716,30.590000000000003],[19.480999999999998,20.044999999999998],[15.0,16.83],[7.752000000000001,9.496],[-2.612,-0.7279999999999999],[3.989,5.197],[12.594000000000001,14.174],[20.913999999999998,22.468],[19.479000000000003,19.949],[16.123,17.544999999999998],[3.3409999999999993,5.273],[12.395999999999999,14.26],[15.533999999999999,16.262],[17.804,18.956],[11.894,13.645999999999999],[10.277,11.123],[20.817999999999998,22.174],[13.943,15.392999999999999],[17.044999999999998,18.935],[3.304,3.946],[22.845000000000002,24.175],[20.773,22.007],[24.299999999999997,26.14],[6.314,7.811999999999999],[21.228,23.118000000000002],[17.002999999999997,17.779],[20.895,21.665000000000003],[11.304000000000002,12.294],[21.043,22.860999999999997],[24.902,26.158],[20.373,22.224999999999998],[3.044,4.826],[23.526,24.680000000000003],[18.041,19.014999999999997],[22.544,23.052000000000003],[13.841999999999999,15.7],[4.3,5.636],[21.552,22.344],[20.874,22.279999999999998],[30.106,31.542],[21.68,22.78],[12.133,12.838999999999999],[22.634999999999998,24.463],[27.076,27.982],[22.628999999999998,23.033],[14.41,15.436],[26.105999999999998,26.956],[20.156,20.676000000000002],[8.822000000000001,9.254],[22.307000000000002,23.329],[23.221,23.718999999999998],[25.660999999999998,27.282999999999998],[36.14,36.858000000000004],[12.110000000000001,13.938],[22.887999999999998,23.766],[32.42,32.976],[29.085,29.981],[33.129000000000005,34.071],[8.899999999999999,10.796],[22.436999999999998,23.656999999999996],[25.529,26.601000000000003],[38.5,40.104],[18.519000000000002,19.401],[24.863000000000003,26.785],[19.723999999999997,20.778],[20.644000000000002,22.206],[16.955000000000002,18.663],[18.808,20.378],[10.713000000000001,11.797]]},\"selected\":{\"id\":\"1174\",\"type\":\"Selection\"},\"selection_policy\":{\"id\":\"1173\",\"type\":\"UnionRenderers\"}},\"id\":\"1143\",\"type\":\"ColumnDataSource\"},{\"attributes\":{\"source\":{\"id\":\"1153\",\"type\":\"ColumnDataSource\"}},\"id\":\"1157\",\"type\":\"CDSView\"},{\"attributes\":{\"overlay\":{\"id\":\"1179\",\"type\":\"BoxAnnotation\"}},\"id\":\"1135\",\"type\":\"BoxZoomTool\"},{\"attributes\":{\"line_color\":{\"value\":\"purple\"},\"xs\":{\"field\":\"xs\"},\"ys\":{\"field\":\"ys\"}},\"id\":\"1144\",\"type\":\"MultiLine\"},{\"attributes\":{\"text\":\"117 Set 4 Problem 1c\"},\"id\":\"1114\",\"type\":\"Title\"},{\"attributes\":{},\"id\":\"1136\",\"type\":\"ResetTool\"},{\"attributes\":{},\"id\":\"1169\",\"type\":\"BasicTickFormatter\"},{\"attributes\":{},\"id\":\"1137\",\"type\":\"SaveTool\"}],\"root_ids\":[\"1113\"]},\"title\":\"Bokeh Application\",\"version\":\"1.4.0\"}};\n",
       "  var render_items = [{\"docid\":\"09f9c3d4-ef1d-4746-b00c-44a96822b42e\",\"roots\":{\"1113\":\"0ab30684-ec00-4d5b-81e1-2954f117ce4e\"}}];\n",
       "  root.Bokeh.embed.embed_items_notebook(docs_json, render_items);\n",
       "\n",
       "  }\n",
       "  if (root.Bokeh !== undefined) {\n",
       "    embed_document(root);\n",
       "  } else {\n",
       "    var attempts = 0;\n",
       "    var timer = setInterval(function(root) {\n",
       "      if (root.Bokeh !== undefined) {\n",
       "        clearInterval(timer);\n",
       "        embed_document(root);\n",
       "      } else {\n",
       "        attempts++;\n",
       "        if (attempts > 100) {\n",
       "          clearInterval(timer);\n",
       "          console.log(\"Bokeh: ERROR: Unable to run BokehJS code because BokehJS library is missing\");\n",
       "        }\n",
       "      }\n",
       "    }, 10, root)\n",
       "  }\n",
       "})(window);"
      ],
      "application/vnd.bokehjs_exec.v0+json": ""
     },
     "metadata": {
      "application/vnd.bokehjs_exec.v0+json": {
       "id": "1113"
      }
     },
     "output_type": "display_data"
    }
   ],
   "source": [
    "x = times\n",
    "xMod = np.linspace(0,250000)\n",
    "y = obliqu\n",
    "yModErrs = fitErrs\n",
    "yModPart = obliFit(bestFits,x)\n",
    "\n",
    "\n",
    "p2 = figure(\n",
    "   tools=\"pan,box_zoom,reset,save\", title=\"117 Set 4 Problem 1c\",\n",
    "   x_axis_label='Time (yrs)', y_axis_label='Obliquity (in degrees)'\n",
    ")\n",
    "\n",
    "err_xs = []\n",
    "err_ys = []\n",
    "\n",
    "for xs, ys, yerrs in zip(x, y, obliqSig):\n",
    "    err_xs.append((xs, xs))\n",
    "    err_ys.append((ys - yerrs, ys + yerrs))\n",
    "\n",
    "p2.multi_line(err_xs, err_ys, color='purple')\n",
    "p2.circle(x,y)\n",
    "p2.line(xMod,obliFit(bestFits, xMod),color='black',line_width=2)\n",
    "\n",
    "show(p2)"
   ]
  },
  {
   "cell_type": "code",
   "execution_count": 11,
   "metadata": {},
   "outputs": [
    {
     "name": "stdout",
     "output_type": "stream",
     "text": [
      "8.12764290478983\n"
     ]
    }
   ],
   "source": [
    "sys_guess = np.std(obliqu - obliFit(bestFits,times))\n",
    "print(sys_guess)"
   ]
  },
  {
   "cell_type": "code",
   "execution_count": 12,
   "metadata": {},
   "outputs": [
    {
     "name": "stdout",
     "output_type": "stream",
     "text": [
      "Message: Optimization terminated successfully.\n",
      "Success?: True\n",
      "\n",
      "The covariance matrix is: \n",
      "[[ 2.54526999e-01 -1.97230162e-03 -2.21138812e+01 -2.51230148e-03]\n",
      " [-1.97230162e-03  1.35005359e-01  9.90287784e+00  1.39490669e-03]\n",
      " [-2.21138812e+01  9.90287784e+00  6.92383456e+05  3.30850250e+00]\n",
      " [-2.51230148e-03  1.39490669e-03  3.30850250e+00  6.50591288e-02]]\n",
      "\n",
      "[A, B, P, sig_sys] = [9.95128220e+00 2.47619956e+01 1.23661814e+05 8.09301442e+00]\n",
      "\n",
      "Marginalized Error Bars: [5.04506689e-01 3.67430754e-01 8.32095821e+02 2.55066911e-01]\n"
     ]
    }
   ],
   "source": [
    "def negLnLikelihood2(params,t,obliq,obliq_sig):\n",
    "    param = params[:-1]\n",
    "    obliq_errSys = params[-1]\n",
    "    return -(np.sum(((-1/(2*(np.power(obliq_sig,2)+np.power(obliq_errSys,2))))*np.power(obliFit(param,t)-obliq,2))+np.log(1/((np.sqrt(np.power(obliq_sig,2)+np.power(obliq_errSys,2)))*np.sqrt(2*np.pi)))))\n",
    "\n",
    "param2_guess=np.array([11,24,122600,sys_guess]) # Put your initial guess here [A, B, P, sig_sys]\n",
    "\n",
    "minResult2=minimize(negLnLikelihood2,param2_guess,args=(times,obliqu,obliqSig))\n",
    "\n",
    "bestFits2 = minResult2.x\n",
    "invHess2 = minResult2.hess_inv\n",
    "\n",
    "print('Message: {}'.format(minResult2.message))\n",
    "print('Success?: {}\\n'.format(minResult2.success))\n",
    "print('The covariance matrix is: \\n{}\\n'.format(invHess2))\n",
    "print('[A, B, P, sig_sys] = {}\\n'.format(bestFits2))\n",
    "print('Marginalized Error Bars: {}'.format(np.sqrt(invHess2.diagonal())))"
   ]
  },
  {
   "cell_type": "code",
   "execution_count": 13,
   "metadata": {},
   "outputs": [
    {
     "name": "stderr",
     "output_type": "stream",
     "text": [
      "BokehDeprecationWarning: 'legend' keyword is deprecated, use explicit 'legend_label', 'legend_field', or 'legend_group' keywords instead\n",
      "BokehDeprecationWarning: 'legend' keyword is deprecated, use explicit 'legend_label', 'legend_field', or 'legend_group' keywords instead\n"
     ]
    },
    {
     "data": {
      "text/html": [
       "\n",
       "\n",
       "\n",
       "\n",
       "\n",
       "\n",
       "  <div class=\"bk-root\" id=\"bae93760-7350-45ad-a6fb-86d0c219d030\" data-root-id=\"1252\"></div>\n"
      ]
     },
     "metadata": {},
     "output_type": "display_data"
    },
    {
     "data": {
      "application/javascript": [
       "(function(root) {\n",
       "  function embed_document(root) {\n",
       "    \n",
       "  var docs_json = {\"7b7c0377-0194-4d57-b01d-fded148e6e4c\":{\"roots\":{\"references\":[{\"attributes\":{\"below\":[{\"id\":\"1263\",\"type\":\"LinearAxis\"}],\"center\":[{\"id\":\"1267\",\"type\":\"Grid\"},{\"id\":\"1272\",\"type\":\"Grid\"},{\"id\":\"1293\",\"type\":\"Legend\"}],\"left\":[{\"id\":\"1268\",\"type\":\"LinearAxis\"}],\"renderers\":[{\"id\":\"1285\",\"type\":\"GlyphRenderer\"},{\"id\":\"1298\",\"type\":\"GlyphRenderer\"}],\"title\":{\"id\":\"1253\",\"type\":\"Title\"},\"toolbar\":{\"id\":\"1277\",\"type\":\"Toolbar\"},\"x_range\":{\"id\":\"1255\",\"type\":\"DataRange1d\"},\"x_scale\":{\"id\":\"1259\",\"type\":\"LinearScale\"},\"y_range\":{\"id\":\"1257\",\"type\":\"DataRange1d\"},\"y_scale\":{\"id\":\"1261\",\"type\":\"LinearScale\"}},\"id\":\"1252\",\"subtype\":\"Figure\",\"type\":\"Plot\"},{\"attributes\":{\"callback\":null,\"data\":{\"x\":{\"__ndarray__\":\"AAAAAAAAAACYU/ByCu6zQJhT8HIK7sNAZH1orA/lzUCYU/ByCu7TQH5orA+N6dhAZH1orA/l3UAlSZIkSXDhQJhT8HIK7uNAC15Owctr5kB+aKwPjenoQPFyCl5OZ+tAZH1orA/l7UDsQ2N9aDHwQCVJkiRJcPFAXk7Byymv8kCYU/ByCu7zQNJYHxrrLPVAC15Owctr9kBEY31orKr3QH5orA+N6fhAuG3btm0o+kDxcgpeTmf7QCp4OQUvpvxAZH1orA/l/UCegpdT8CP/QOxDY31oMQBBiMb60NjQAEElSZIkSXABQcLLKXi5DwJBXk7ByymvAkH70Fgfmk4DQZhT8HIK7gNBNdaHxnqNBEHSWB8a6ywFQW7btm1bzAVBC15OwctrBkGo4OUUPAsHQURjfWisqgdB4eUUvBxKCEF+aKwPjekIQRvrQ2P9iAlBuG3btm0oCkFU8HIK3scKQfFyCl5OZwtBjvWhsb4GDEEqeDkFL6YMQcf60FifRQ1BZH1orA/lDUEAAAAAgIQOQQ==\",\"dtype\":\"float64\",\"shape\":[50]},\"y\":{\"__ndarray__\":\"luKCJBLDOED0aAFqGVA7QBh7sBh9sT1Al3kZJoS+P0CnEIBeDKpAQGe9ZTqQK0FAPjus/SVbQUDrLJSanzVBQEm9/gR/vUBAHr2hmJb1P0Bro5yNDvU9QNlak/elmztAdwkDWY0ROUCKIQ8fNoI2QOmYT29rGTRA3Ji99mQAMkDW/G7KBVswQAggzvHsii5A5sl9pYakLUDsOxI3PhIuQExFha6+zC9AXDhPATtbMUAUoB98x04zQHK+b9KinzVAoOcEzi4mOEBDbBq6Nrc6QOpQ0IbSJj1AjBPo6FVLP0DBZgiiDIBAQChJ1V32E0FAUzVJwYVXQUB14wcGN0ZBQI2QKkIy4UBAX/j+njcvQECnJIS5V3g+QJcc+rWZMDxAsZScfDeuOUA4ReCJHhw3QHfRZSxJpjRAw8gcLc52MkAIETDHELMwQH5ZIxuC8i5Ah6Aj+K68LUBPx59tXNktQMIQpeKfRi9AjjXxUgj2MEB05SHANM4yQDSX4pRHDDVAYG/L7+OJN0ABHVr7bRw6QA==\",\"dtype\":\"float64\",\"shape\":[50]}},\"selected\":{\"id\":\"1339\",\"type\":\"Selection\"},\"selection_policy\":{\"id\":\"1338\",\"type\":\"UnionRenderers\"}},\"id\":\"1295\",\"type\":\"ColumnDataSource\"},{\"attributes\":{},\"id\":\"1290\",\"type\":\"BasicTickFormatter\"},{\"attributes\":{},\"id\":\"1338\",\"type\":\"UnionRenderers\"},{\"attributes\":{\"axis_label\":\"Obliquity (in degrees)\",\"formatter\":{\"id\":\"1290\",\"type\":\"BasicTickFormatter\"},\"ticker\":{\"id\":\"1269\",\"type\":\"BasicTicker\"}},\"id\":\"1268\",\"type\":\"LinearAxis\"},{\"attributes\":{\"bottom_units\":\"screen\",\"fill_alpha\":{\"value\":0.5},\"fill_color\":{\"value\":\"lightgrey\"},\"left_units\":\"screen\",\"level\":\"overlay\",\"line_alpha\":{\"value\":1.0},\"line_color\":{\"value\":\"black\"},\"line_dash\":[4,4],\"line_width\":{\"value\":2},\"render_mode\":\"css\",\"right_units\":\"screen\",\"top_units\":\"screen\"},\"id\":\"1292\",\"type\":\"BoxAnnotation\"},{\"attributes\":{\"line_alpha\":0.1,\"line_color\":\"#1f77b4\",\"line_width\":2,\"x\":{\"field\":\"x\"},\"y\":{\"field\":\"y\"}},\"id\":\"1297\",\"type\":\"Line\"},{\"attributes\":{\"line_color\":\"green\",\"line_width\":2,\"x\":{\"field\":\"x\"},\"y\":{\"field\":\"y\"}},\"id\":\"1296\",\"type\":\"Line\"},{\"attributes\":{},\"id\":\"1305\",\"type\":\"UnionRenderers\"},{\"attributes\":{\"active_drag\":\"auto\",\"active_inspect\":\"auto\",\"active_multi\":null,\"active_scroll\":\"auto\",\"active_tap\":\"auto\",\"tools\":[{\"id\":\"1273\",\"type\":\"PanTool\"},{\"id\":\"1274\",\"type\":\"BoxZoomTool\"},{\"id\":\"1275\",\"type\":\"ResetTool\"},{\"id\":\"1276\",\"type\":\"SaveTool\"}]},\"id\":\"1277\",\"type\":\"Toolbar\"},{\"attributes\":{},\"id\":\"1273\",\"type\":\"PanTool\"},{\"attributes\":{},\"id\":\"1276\",\"type\":\"SaveTool\"},{\"attributes\":{\"label\":{\"value\":\"Old Best Fit\"},\"renderers\":[{\"id\":\"1285\",\"type\":\"GlyphRenderer\"}]},\"id\":\"1294\",\"type\":\"LegendItem\"},{\"attributes\":{},\"id\":\"1288\",\"type\":\"BasicTickFormatter\"},{\"attributes\":{\"items\":[{\"id\":\"1294\",\"type\":\"LegendItem\"},{\"id\":\"1308\",\"type\":\"LegendItem\"}],\"location\":\"top_left\"},\"id\":\"1293\",\"type\":\"Legend\"},{\"attributes\":{\"source\":{\"id\":\"1282\",\"type\":\"ColumnDataSource\"}},\"id\":\"1286\",\"type\":\"CDSView\"},{\"attributes\":{},\"id\":\"1275\",\"type\":\"ResetTool\"},{\"attributes\":{\"callback\":null},\"id\":\"1257\",\"type\":\"DataRange1d\"},{\"attributes\":{\"line_alpha\":0.1,\"line_color\":\"#1f77b4\",\"line_width\":2,\"x\":{\"field\":\"x\"},\"y\":{\"field\":\"y\"}},\"id\":\"1284\",\"type\":\"Line\"},{\"attributes\":{\"data_source\":{\"id\":\"1295\",\"type\":\"ColumnDataSource\"},\"glyph\":{\"id\":\"1296\",\"type\":\"Line\"},\"hover_glyph\":null,\"muted_glyph\":null,\"nonselection_glyph\":{\"id\":\"1297\",\"type\":\"Line\"},\"selection_glyph\":null,\"view\":{\"id\":\"1299\",\"type\":\"CDSView\"}},\"id\":\"1298\",\"type\":\"GlyphRenderer\"},{\"attributes\":{},\"id\":\"1269\",\"type\":\"BasicTicker\"},{\"attributes\":{},\"id\":\"1306\",\"type\":\"Selection\"},{\"attributes\":{},\"id\":\"1264\",\"type\":\"BasicTicker\"},{\"attributes\":{\"source\":{\"id\":\"1295\",\"type\":\"ColumnDataSource\"}},\"id\":\"1299\",\"type\":\"CDSView\"},{\"attributes\":{\"callback\":null},\"id\":\"1255\",\"type\":\"DataRange1d\"},{\"attributes\":{\"label\":{\"value\":\"New Best Fit\"},\"renderers\":[{\"id\":\"1298\",\"type\":\"GlyphRenderer\"}]},\"id\":\"1308\",\"type\":\"LegendItem\"},{\"attributes\":{},\"id\":\"1339\",\"type\":\"Selection\"},{\"attributes\":{\"data_source\":{\"id\":\"1282\",\"type\":\"ColumnDataSource\"},\"glyph\":{\"id\":\"1283\",\"type\":\"Line\"},\"hover_glyph\":null,\"muted_glyph\":null,\"nonselection_glyph\":{\"id\":\"1284\",\"type\":\"Line\"},\"selection_glyph\":null,\"view\":{\"id\":\"1286\",\"type\":\"CDSView\"}},\"id\":\"1285\",\"type\":\"GlyphRenderer\"},{\"attributes\":{\"dimension\":1,\"ticker\":{\"id\":\"1269\",\"type\":\"BasicTicker\"}},\"id\":\"1272\",\"type\":\"Grid\"},{\"attributes\":{\"line_width\":2,\"x\":{\"field\":\"x\"},\"y\":{\"field\":\"y\"}},\"id\":\"1283\",\"type\":\"Line\"},{\"attributes\":{\"overlay\":{\"id\":\"1292\",\"type\":\"BoxAnnotation\"}},\"id\":\"1274\",\"type\":\"BoxZoomTool\"},{\"attributes\":{\"ticker\":{\"id\":\"1264\",\"type\":\"BasicTicker\"}},\"id\":\"1267\",\"type\":\"Grid\"},{\"attributes\":{},\"id\":\"1259\",\"type\":\"LinearScale\"},{\"attributes\":{},\"id\":\"1261\",\"type\":\"LinearScale\"},{\"attributes\":{\"callback\":null,\"data\":{\"x\":{\"__ndarray__\":\"AAAAAAAAAACYU/ByCu6zQJhT8HIK7sNAZH1orA/lzUCYU/ByCu7TQH5orA+N6dhAZH1orA/l3UAlSZIkSXDhQJhT8HIK7uNAC15Owctr5kB+aKwPjenoQPFyCl5OZ+tAZH1orA/l7UDsQ2N9aDHwQCVJkiRJcPFAXk7Byymv8kCYU/ByCu7zQNJYHxrrLPVAC15Owctr9kBEY31orKr3QH5orA+N6fhAuG3btm0o+kDxcgpeTmf7QCp4OQUvpvxAZH1orA/l/UCegpdT8CP/QOxDY31oMQBBiMb60NjQAEElSZIkSXABQcLLKXi5DwJBXk7ByymvAkH70Fgfmk4DQZhT8HIK7gNBNdaHxnqNBEHSWB8a6ywFQW7btm1bzAVBC15OwctrBkGo4OUUPAsHQURjfWisqgdB4eUUvBxKCEF+aKwPjekIQRvrQ2P9iAlBuG3btm0oCkFU8HIK3scKQfFyCl5OZwtBjvWhsb4GDEEqeDkFL6YMQcf60FifRQ1BZH1orA/lDUEAAAAAgIQOQQ==\",\"dtype\":\"float64\",\"shape\":[50]},\"y\":{\"__ndarray__\":\"XmKchhS8OEByLE94Hik7QHvfY6qGbD1AFu6W0HVfP0APLEbQPHBAQKShVWbh6kBAEEaP+G8XQUBanO3g6/JAQBYoksfHf0BAprQ5QXeLP0ApuAVtgKI9QLrTG0RyZTtAlmoVErf6OECpQqH8yIs2QBi6wzdqQjRASXKGZdhFMkDsCzsrK7gwQJEq3kEWaC9ARKfpptCVLkA6rzIIngcvQNImh7XuWjBA0oR4odvBMUCFztszhqAzQGAFWvTX1jVAf9cxMNo+OECUjGB6Qa86QPDGllUy/jxA4RN6hg8EP0DaXXzzEE9AQOukCxR22EBAg9MqSQEVQUC83G6SowBBQOOCO3G6nEBA6e2v9fDfP0CLGGPQ5As+QD9Pja+w3DtASebBKNF3OUCg/p/ZWwY3QFl1T1k+sjRAUyWdr26jMkCD4MONPf0wQDqsRIPwty9Aa/bGBwamLkBsvV5gGNcuQH7jSrbuIzBANL0HVM5vMUA5M5+z6zgzQFgiRDaiYDVAIcHw0vXBN0AMWOTIDTQ6QA==\",\"dtype\":\"float64\",\"shape\":[50]}},\"selected\":{\"id\":\"1306\",\"type\":\"Selection\"},\"selection_policy\":{\"id\":\"1305\",\"type\":\"UnionRenderers\"}},\"id\":\"1282\",\"type\":\"ColumnDataSource\"},{\"attributes\":{\"text\":\"117 Set 4 Problem 2c\"},\"id\":\"1253\",\"type\":\"Title\"},{\"attributes\":{\"axis_label\":\"Time (yrs)\",\"formatter\":{\"id\":\"1288\",\"type\":\"BasicTickFormatter\"},\"ticker\":{\"id\":\"1264\",\"type\":\"BasicTicker\"}},\"id\":\"1263\",\"type\":\"LinearAxis\"}],\"root_ids\":[\"1252\"]},\"title\":\"Bokeh Application\",\"version\":\"1.4.0\"}};\n",
       "  var render_items = [{\"docid\":\"7b7c0377-0194-4d57-b01d-fded148e6e4c\",\"roots\":{\"1252\":\"bae93760-7350-45ad-a6fb-86d0c219d030\"}}];\n",
       "  root.Bokeh.embed.embed_items_notebook(docs_json, render_items);\n",
       "\n",
       "  }\n",
       "  if (root.Bokeh !== undefined) {\n",
       "    embed_document(root);\n",
       "  } else {\n",
       "    var attempts = 0;\n",
       "    var timer = setInterval(function(root) {\n",
       "      if (root.Bokeh !== undefined) {\n",
       "        clearInterval(timer);\n",
       "        embed_document(root);\n",
       "      } else {\n",
       "        attempts++;\n",
       "        if (attempts > 100) {\n",
       "          clearInterval(timer);\n",
       "          console.log(\"Bokeh: ERROR: Unable to run BokehJS code because BokehJS library is missing\");\n",
       "        }\n",
       "      }\n",
       "    }, 10, root)\n",
       "  }\n",
       "})(window);"
      ],
      "application/vnd.bokehjs_exec.v0+json": ""
     },
     "metadata": {
      "application/vnd.bokehjs_exec.v0+json": {
       "id": "1252"
      }
     },
     "output_type": "display_data"
    }
   ],
   "source": [
    "xMod = np.linspace(0,250000)\n",
    "\n",
    "p3 = figure(\n",
    "   tools=\"pan,box_zoom,reset,save\", title=\"117 Set 4 Problem 2c\",\n",
    "   x_axis_label='Time (yrs)', y_axis_label='Obliquity (in degrees)')\n",
    "\n",
    "p3.line(xMod,obliFit(bestFits,xMod),color='black',line_width=2, legend='Old Best Fit')\n",
    "p3.line(xMod,obliFit(bestFits2,xMod),color='green',line_width=2, legend='New Best Fit')\n",
    "p3.legend.location = \"top_left\"\n",
    "\n",
    "show(p3)"
   ]
  },
  {
   "cell_type": "code",
   "execution_count": 14,
   "metadata": {},
   "outputs": [],
   "source": [
    "def sigTrue(bestfit, t):\n",
    "    return np.sqrt(np.power(obliqSig,2)+np.power(bestfit[-1],2))\n",
    "    "
   ]
  },
  {
   "cell_type": "code",
   "execution_count": 15,
   "metadata": {},
   "outputs": [],
   "source": [
    "fitErrs2 = (sigTrue(bestFits2,times[[i]]))"
   ]
  },
  {
   "cell_type": "code",
   "execution_count": 16,
   "metadata": {
    "scrolled": true
   },
   "outputs": [
    {
     "data": {
      "text/html": [
       "\n",
       "\n",
       "\n",
       "\n",
       "\n",
       "\n",
       "  <div class=\"bk-root\" id=\"e5aa62a5-df1f-4a56-b77c-5b9103a9829f\" data-root-id=\"1401\"></div>\n"
      ]
     },
     "metadata": {},
     "output_type": "display_data"
    },
    {
     "data": {
      "application/javascript": [
       "(function(root) {\n",
       "  function embed_document(root) {\n",
       "    \n",
       "  var docs_json = {\"10f338c1-1234-4d6b-aa61-0c89d4430a4a\":{\"roots\":{\"references\":[{\"attributes\":{\"below\":[{\"id\":\"1412\",\"type\":\"LinearAxis\"}],\"center\":[{\"id\":\"1416\",\"type\":\"Grid\"},{\"id\":\"1421\",\"type\":\"Grid\"}],\"left\":[{\"id\":\"1417\",\"type\":\"LinearAxis\"}],\"renderers\":[{\"id\":\"1434\",\"type\":\"GlyphRenderer\"},{\"id\":\"1439\",\"type\":\"GlyphRenderer\"},{\"id\":\"1444\",\"type\":\"GlyphRenderer\"}],\"title\":{\"id\":\"1402\",\"type\":\"Title\"},\"toolbar\":{\"id\":\"1426\",\"type\":\"Toolbar\"},\"x_range\":{\"id\":\"1404\",\"type\":\"DataRange1d\"},\"x_scale\":{\"id\":\"1408\",\"type\":\"LinearScale\"},\"y_range\":{\"id\":\"1406\",\"type\":\"DataRange1d\"},\"y_scale\":{\"id\":\"1410\",\"type\":\"LinearScale\"}},\"id\":\"1401\",\"subtype\":\"Figure\",\"type\":\"Plot\"},{\"attributes\":{\"active_drag\":\"auto\",\"active_inspect\":\"auto\",\"active_multi\":null,\"active_scroll\":\"auto\",\"active_tap\":\"auto\",\"tools\":[{\"id\":\"1422\",\"type\":\"PanTool\"},{\"id\":\"1423\",\"type\":\"BoxZoomTool\"},{\"id\":\"1424\",\"type\":\"ResetTool\"},{\"id\":\"1425\",\"type\":\"SaveTool\"}]},\"id\":\"1426\",\"type\":\"Toolbar\"},{\"attributes\":{},\"id\":\"1408\",\"type\":\"LinearScale\"},{\"attributes\":{\"line_alpha\":{\"value\":0.1},\"line_color\":{\"value\":\"#1f77b4\"},\"xs\":{\"field\":\"xs\"},\"ys\":{\"field\":\"ys\"}},\"id\":\"1433\",\"type\":\"MultiLine\"},{\"attributes\":{},\"id\":\"1481\",\"type\":\"BasicTickFormatter\"},{\"attributes\":{\"callback\":null},\"id\":\"1406\",\"type\":\"DataRange1d\"},{\"attributes\":{},\"id\":\"1486\",\"type\":\"Selection\"},{\"attributes\":{\"data_source\":{\"id\":\"1431\",\"type\":\"ColumnDataSource\"},\"glyph\":{\"id\":\"1432\",\"type\":\"MultiLine\"},\"hover_glyph\":null,\"muted_glyph\":null,\"nonselection_glyph\":{\"id\":\"1433\",\"type\":\"MultiLine\"},\"selection_glyph\":null,\"view\":{\"id\":\"1435\",\"type\":\"CDSView\"}},\"id\":\"1434\",\"type\":\"GlyphRenderer\"},{\"attributes\":{\"data_source\":{\"id\":\"1436\",\"type\":\"ColumnDataSource\"},\"glyph\":{\"id\":\"1437\",\"type\":\"Circle\"},\"hover_glyph\":null,\"muted_glyph\":null,\"nonselection_glyph\":{\"id\":\"1438\",\"type\":\"Circle\"},\"selection_glyph\":null,\"view\":{\"id\":\"1440\",\"type\":\"CDSView\"}},\"id\":\"1439\",\"type\":\"GlyphRenderer\"},{\"attributes\":{},\"id\":\"1410\",\"type\":\"LinearScale\"},{\"attributes\":{},\"id\":\"1487\",\"type\":\"UnionRenderers\"},{\"attributes\":{\"data_source\":{\"id\":\"1441\",\"type\":\"ColumnDataSource\"},\"glyph\":{\"id\":\"1442\",\"type\":\"Line\"},\"hover_glyph\":null,\"muted_glyph\":null,\"nonselection_glyph\":{\"id\":\"1443\",\"type\":\"Line\"},\"selection_glyph\":null,\"view\":{\"id\":\"1445\",\"type\":\"CDSView\"}},\"id\":\"1444\",\"type\":\"GlyphRenderer\"},{\"attributes\":{\"axis_label\":\"Time (yrs)\",\"formatter\":{\"id\":\"1479\",\"type\":\"BasicTickFormatter\"},\"ticker\":{\"id\":\"1413\",\"type\":\"BasicTicker\"}},\"id\":\"1412\",\"type\":\"LinearAxis\"},{\"attributes\":{\"callback\":null,\"data\":{\"x\":{\"__ndarray__\":\"AAAAAAAAAACYU/ByCu6zQJhT8HIK7sNAZH1orA/lzUCYU/ByCu7TQH5orA+N6dhAZH1orA/l3UAlSZIkSXDhQJhT8HIK7uNAC15Owctr5kB+aKwPjenoQPFyCl5OZ+tAZH1orA/l7UDsQ2N9aDHwQCVJkiRJcPFAXk7Byymv8kCYU/ByCu7zQNJYHxrrLPVAC15Owctr9kBEY31orKr3QH5orA+N6fhAuG3btm0o+kDxcgpeTmf7QCp4OQUvpvxAZH1orA/l/UCegpdT8CP/QOxDY31oMQBBiMb60NjQAEElSZIkSXABQcLLKXi5DwJBXk7ByymvAkH70Fgfmk4DQZhT8HIK7gNBNdaHxnqNBEHSWB8a6ywFQW7btm1bzAVBC15OwctrBkGo4OUUPAsHQURjfWisqgdB4eUUvBxKCEF+aKwPjekIQRvrQ2P9iAlBuG3btm0oCkFU8HIK3scKQfFyCl5OZwtBjvWhsb4GDEEqeDkFL6YMQcf60FifRQ1BZH1orA/lDUEAAAAAgIQOQQ==\",\"dtype\":\"float64\",\"shape\":[50]},\"y\":{\"__ndarray__\":\"luKCJBLDOED0aAFqGVA7QBh7sBh9sT1Al3kZJoS+P0CnEIBeDKpAQGe9ZTqQK0FAPjus/SVbQUDrLJSanzVBQEm9/gR/vUBAHr2hmJb1P0Bro5yNDvU9QNlak/elmztAdwkDWY0ROUCKIQ8fNoI2QOmYT29rGTRA3Ji99mQAMkDW/G7KBVswQAggzvHsii5A5sl9pYakLUDsOxI3PhIuQExFha6+zC9AXDhPATtbMUAUoB98x04zQHK+b9KinzVAoOcEzi4mOEBDbBq6Nrc6QOpQ0IbSJj1AjBPo6FVLP0DBZgiiDIBAQChJ1V32E0FAUzVJwYVXQUB14wcGN0ZBQI2QKkIy4UBAX/j+njcvQECnJIS5V3g+QJcc+rWZMDxAsZScfDeuOUA4ReCJHhw3QHfRZSxJpjRAw8gcLc52MkAIETDHELMwQH5ZIxuC8i5Ah6Aj+K68LUBPx59tXNktQMIQpeKfRi9AjjXxUgj2MEB05SHANM4yQDSX4pRHDDVAYG/L7+OJN0ABHVr7bRw6QA==\",\"dtype\":\"float64\",\"shape\":[50]}},\"selected\":{\"id\":\"1488\",\"type\":\"Selection\"},\"selection_policy\":{\"id\":\"1487\",\"type\":\"UnionRenderers\"}},\"id\":\"1441\",\"type\":\"ColumnDataSource\"},{\"attributes\":{\"fill_alpha\":{\"value\":0.1},\"fill_color\":{\"value\":\"#1f77b4\"},\"line_alpha\":{\"value\":0.1},\"line_color\":{\"value\":\"#1f77b4\"},\"x\":{\"field\":\"x\"},\"y\":{\"field\":\"y\"}},\"id\":\"1438\",\"type\":\"Circle\"},{\"attributes\":{},\"id\":\"1413\",\"type\":\"BasicTicker\"},{\"attributes\":{},\"id\":\"1479\",\"type\":\"BasicTickFormatter\"},{\"attributes\":{},\"id\":\"1488\",\"type\":\"Selection\"},{\"attributes\":{\"ticker\":{\"id\":\"1413\",\"type\":\"BasicTicker\"}},\"id\":\"1416\",\"type\":\"Grid\"},{\"attributes\":{\"source\":{\"id\":\"1431\",\"type\":\"ColumnDataSource\"}},\"id\":\"1435\",\"type\":\"CDSView\"},{\"attributes\":{},\"id\":\"1418\",\"type\":\"BasicTicker\"},{\"attributes\":{},\"id\":\"1485\",\"type\":\"UnionRenderers\"},{\"attributes\":{\"dimension\":1,\"ticker\":{\"id\":\"1418\",\"type\":\"BasicTicker\"}},\"id\":\"1421\",\"type\":\"Grid\"},{\"attributes\":{\"line_alpha\":0.1,\"line_color\":\"#1f77b4\",\"line_width\":2,\"x\":{\"field\":\"x\"},\"y\":{\"field\":\"y\"}},\"id\":\"1443\",\"type\":\"Line\"},{\"attributes\":{\"fill_color\":{\"value\":\"#1f77b4\"},\"line_color\":{\"value\":\"#1f77b4\"},\"x\":{\"field\":\"x\"},\"y\":{\"field\":\"y\"}},\"id\":\"1437\",\"type\":\"Circle\"},{\"attributes\":{\"source\":{\"id\":\"1441\",\"type\":\"ColumnDataSource\"}},\"id\":\"1445\",\"type\":\"CDSView\"},{\"attributes\":{\"line_width\":2,\"x\":{\"field\":\"x\"},\"y\":{\"field\":\"y\"}},\"id\":\"1442\",\"type\":\"Line\"},{\"attributes\":{},\"id\":\"1422\",\"type\":\"PanTool\"},{\"attributes\":{},\"id\":\"1425\",\"type\":\"SaveTool\"},{\"attributes\":{},\"id\":\"1484\",\"type\":\"Selection\"},{\"attributes\":{\"bottom_units\":\"screen\",\"fill_alpha\":{\"value\":0.5},\"fill_color\":{\"value\":\"lightgrey\"},\"left_units\":\"screen\",\"level\":\"overlay\",\"line_alpha\":{\"value\":1.0},\"line_color\":{\"value\":\"black\"},\"line_dash\":[4,4],\"line_width\":{\"value\":2},\"render_mode\":\"css\",\"right_units\":\"screen\",\"top_units\":\"screen\"},\"id\":\"1489\",\"type\":\"BoxAnnotation\"},{\"attributes\":{\"axis_label\":\"Obliquity (in degrees)\",\"formatter\":{\"id\":\"1481\",\"type\":\"BasicTickFormatter\"},\"ticker\":{\"id\":\"1418\",\"type\":\"BasicTicker\"}},\"id\":\"1417\",\"type\":\"LinearAxis\"},{\"attributes\":{\"callback\":null,\"data\":{\"xs\":[[0.0,0.0],[501.0,501.0],[1002.0,1002.0],[1503.0,1503.0],[2004.0,2004.0],[2505.0,2505.0],[3006.0,3006.0],[3507.0,3507.0],[4008.0,4008.0],[4509.0,4509.0],[5010.0,5010.0],[5511.0,5511.0],[6012.0,6012.0],[6513.0,6513.0],[7014.0,7014.0],[7515.0,7515.0],[8016.0,8016.0],[8517.0,8517.0],[9018.0,9018.0],[9519.0,9519.0],[10020.0,10020.0],[10521.0,10521.0],[11022.0,11022.0],[11523.0,11523.0],[12024.0,12024.0],[12525.1,12525.1],[13026.1,13026.1],[13527.1,13527.1],[14028.1,14028.1],[14529.1,14529.1],[15030.1,15030.1],[15531.1,15531.1],[16032.1,16032.1],[16533.1,16533.1],[17034.1,17034.1],[17535.1,17535.1],[18036.1,18036.1],[18537.1,18537.1],[19038.1,19038.1],[19539.1,19539.1],[20040.1,20040.1],[20541.1,20541.1],[21042.1,21042.1],[21543.1,21543.1],[22044.1,22044.1],[22545.1,22545.1],[23046.1,23046.1],[23547.1,23547.1],[24048.1,24048.1],[24549.1,24549.1],[25050.1,25050.1],[25551.1,25551.1],[26052.1,26052.1],[26553.1,26553.1],[27054.1,27054.1],[27555.1,27555.1],[28056.1,28056.1],[28557.1,28557.1],[29058.1,29058.1],[29559.1,29559.1],[30060.1,30060.1],[30561.1,30561.1],[31062.1,31062.1],[31563.1,31563.1],[32064.1,32064.1],[32565.1,32565.1],[33066.1,33066.1],[33567.1,33567.1],[34068.1,34068.1],[34569.1,34569.1],[35070.1,35070.1],[35571.1,35571.1],[36072.1,36072.1],[36573.1,36573.1],[37074.1,37074.1],[37575.2,37575.2],[38076.2,38076.2],[38577.2,38577.2],[39078.2,39078.2],[39579.2,39579.2],[40080.2,40080.2],[40581.2,40581.2],[41082.2,41082.2],[41583.2,41583.2],[42084.2,42084.2],[42585.2,42585.2],[43086.2,43086.2],[43587.2,43587.2],[44088.2,44088.2],[44589.2,44589.2],[45090.2,45090.2],[45591.2,45591.2],[46092.2,46092.2],[46593.2,46593.2],[47094.2,47094.2],[47595.2,47595.2],[48096.2,48096.2],[48597.2,48597.2],[49098.2,49098.2],[49599.2,49599.2],[50100.2,50100.2],[50601.2,50601.2],[51102.2,51102.2],[51603.2,51603.2],[52104.2,52104.2],[52605.2,52605.2],[53106.2,53106.2],[53607.2,53607.2],[54108.2,54108.2],[54609.2,54609.2],[55110.2,55110.2],[55611.2,55611.2],[56112.2,56112.2],[56613.2,56613.2],[57114.2,57114.2],[57615.2,57615.2],[58116.2,58116.2],[58617.2,58617.2],[59118.2,59118.2],[59619.2,59619.2],[60120.2,60120.2],[60621.2,60621.2],[61122.2,61122.2],[61623.2,61623.2],[62124.2,62124.2],[62625.3,62625.3],[63126.3,63126.3],[63627.3,63627.3],[64128.3,64128.3],[64629.3,64629.3],[65130.3,65130.3],[65631.3,65631.3],[66132.3,66132.3],[66633.3,66633.3],[67134.3,67134.3],[67635.3,67635.3],[68136.3,68136.3],[68637.3,68637.3],[69138.3,69138.3],[69639.3,69639.3],[70140.3,70140.3],[70641.3,70641.3],[71142.3,71142.3],[71643.3,71643.3],[72144.3,72144.3],[72645.3,72645.3],[73146.3,73146.3],[73647.3,73647.3],[74148.3,74148.3],[74649.3,74649.3],[75150.3,75150.3],[75651.3,75651.3],[76152.3,76152.3],[76653.3,76653.3],[77154.3,77154.3],[77655.3,77655.3],[78156.3,78156.3],[78657.3,78657.3],[79158.3,79158.3],[79659.3,79659.3],[80160.3,80160.3],[80661.3,80661.3],[81162.3,81162.3],[81663.3,81663.3],[82164.3,82164.3],[82665.3,82665.3],[83166.3,83166.3],[83667.3,83667.3],[84168.3,84168.3],[84669.3,84669.3],[85170.3,85170.3],[85671.3,85671.3],[86172.3,86172.3],[86673.3,86673.3],[87174.3,87174.3],[87675.4,87675.4],[88176.4,88176.4],[88677.4,88677.4],[89178.4,89178.4],[89679.4,89679.4],[90180.4,90180.4],[90681.4,90681.4],[91182.4,91182.4],[91683.4,91683.4],[92184.4,92184.4],[92685.4,92685.4],[93186.4,93186.4],[93687.4,93687.4],[94188.4,94188.4],[94689.4,94689.4],[95190.4,95190.4],[95691.4,95691.4],[96192.4,96192.4],[96693.4,96693.4],[97194.4,97194.4],[97695.4,97695.4],[98196.4,98196.4],[98697.4,98697.4],[99198.4,99198.4],[99699.4,99699.4],[100200.4,100200.4],[100701.4,100701.4],[101202.4,101202.4],[101703.4,101703.4],[102204.4,102204.4],[102705.4,102705.4],[103206.4,103206.4],[103707.4,103707.4],[104208.4,104208.4],[104709.4,104709.4],[105210.4,105210.4],[105711.4,105711.4],[106212.4,106212.4],[106713.4,106713.4],[107214.4,107214.4],[107715.4,107715.4],[108216.4,108216.4],[108717.4,108717.4],[109218.4,109218.4],[109719.4,109719.4],[110220.4,110220.4],[110721.4,110721.4],[111222.4,111222.4],[111723.4,111723.4],[112224.4,112224.4],[112725.5,112725.5],[113226.5,113226.5],[113727.5,113727.5],[114228.5,114228.5],[114729.5,114729.5],[115230.5,115230.5],[115731.5,115731.5],[116232.5,116232.5],[116733.5,116733.5],[117234.5,117234.5],[117735.5,117735.5],[118236.5,118236.5],[118737.5,118737.5],[119238.5,119238.5],[119739.5,119739.5],[120240.5,120240.5],[120741.5,120741.5],[121242.5,121242.5],[121743.5,121743.5],[122244.5,122244.5],[122745.5,122745.5],[123246.5,123246.5],[123747.5,123747.5],[124248.5,124248.5],[124749.5,124749.5],[125250.5,125250.5],[125751.5,125751.5],[126252.5,126252.5],[126753.5,126753.5],[127254.5,127254.5],[127755.5,127755.5],[128256.5,128256.5],[128757.5,128757.5],[129258.5,129258.5],[129759.5,129759.5],[130260.5,130260.5],[130761.5,130761.5],[131262.5,131262.5],[131763.5,131763.5],[132264.5,132264.5],[132765.5,132765.5],[133266.5,133266.5],[133767.5,133767.5],[134268.5,134268.5],[134769.5,134769.5],[135270.5,135270.5],[135771.5,135771.5],[136272.5,136272.5],[136773.5,136773.5],[137274.5,137274.5],[137775.6,137775.6],[138276.6,138276.6],[138777.6,138777.6],[139278.6,139278.6],[139779.6,139779.6],[140280.6,140280.6],[140781.6,140781.6],[141282.6,141282.6],[141783.6,141783.6],[142284.6,142284.6],[142785.6,142785.6],[143286.6,143286.6],[143787.6,143787.6],[144288.6,144288.6],[144789.6,144789.6],[145290.6,145290.6],[145791.6,145791.6],[146292.6,146292.6],[146793.6,146793.6],[147294.6,147294.6],[147795.6,147795.6],[148296.6,148296.6],[148797.6,148797.6],[149298.6,149298.6],[149799.6,149799.6],[150300.6,150300.6],[150801.6,150801.6],[151302.6,151302.6],[151803.6,151803.6],[152304.6,152304.6],[152805.6,152805.6],[153306.6,153306.6],[153807.6,153807.6],[154308.6,154308.6],[154809.6,154809.6],[155310.6,155310.6],[155811.6,155811.6],[156312.6,156312.6],[156813.6,156813.6],[157314.6,157314.6],[157815.6,157815.6],[158316.6,158316.6],[158817.6,158817.6],[159318.6,159318.6],[159819.6,159819.6],[160320.6,160320.6],[160821.6,160821.6],[161322.6,161322.6],[161823.6,161823.6],[162324.6,162324.6],[162825.7,162825.7],[163326.7,163326.7],[163827.7,163827.7],[164328.7,164328.7],[164829.7,164829.7],[165330.7,165330.7],[165831.7,165831.7],[166332.7,166332.7],[166833.7,166833.7],[167334.7,167334.7],[167835.7,167835.7],[168336.7,168336.7],[168837.7,168837.7],[169338.7,169338.7],[169839.7,169839.7],[170340.7,170340.7],[170841.7,170841.7],[171342.7,171342.7],[171843.7,171843.7],[172344.7,172344.7],[172845.7,172845.7],[173346.7,173346.7],[173847.7,173847.7],[174348.7,174348.7],[174849.7,174849.7],[175350.7,175350.7],[175851.7,175851.7],[176352.7,176352.7],[176853.7,176853.7],[177354.7,177354.7],[177855.7,177855.7],[178356.7,178356.7],[178857.7,178857.7],[179358.7,179358.7],[179859.7,179859.7],[180360.7,180360.7],[180861.7,180861.7],[181362.7,181362.7],[181863.7,181863.7],[182364.7,182364.7],[182865.7,182865.7],[183366.7,183366.7],[183867.7,183867.7],[184368.7,184368.7],[184869.7,184869.7],[185370.7,185370.7],[185871.7,185871.7],[186372.7,186372.7],[186873.7,186873.7],[187374.7,187374.7],[187875.8,187875.8],[188376.8,188376.8],[188877.8,188877.8],[189378.8,189378.8],[189879.8,189879.8],[190380.8,190380.8],[190881.8,190881.8],[191382.8,191382.8],[191883.8,191883.8],[192384.8,192384.8],[192885.8,192885.8],[193386.8,193386.8],[193887.8,193887.8],[194388.8,194388.8],[194889.8,194889.8],[195390.8,195390.8],[195891.8,195891.8],[196392.8,196392.8],[196893.8,196893.8],[197394.8,197394.8],[197895.8,197895.8],[198396.8,198396.8],[198897.8,198897.8],[199398.8,199398.8],[199899.8,199899.8],[200400.8,200400.8],[200901.8,200901.8],[201402.8,201402.8],[201903.8,201903.8],[202404.8,202404.8],[202905.8,202905.8],[203406.8,203406.8],[203907.8,203907.8],[204408.8,204408.8],[204909.8,204909.8],[205410.8,205410.8],[205911.8,205911.8],[206412.8,206412.8],[206913.8,206913.8],[207414.8,207414.8],[207915.8,207915.8],[208416.8,208416.8],[208917.8,208917.8],[209418.8,209418.8],[209919.8,209919.8],[210420.8,210420.8],[210921.8,210921.8],[211422.8,211422.8],[211923.8,211923.8],[212424.8,212424.8],[212925.9,212925.9],[213426.9,213426.9],[213927.9,213927.9],[214428.9,214428.9],[214929.9,214929.9],[215430.9,215430.9],[215931.9,215931.9],[216432.9,216432.9],[216933.9,216933.9],[217434.9,217434.9],[217935.9,217935.9],[218436.9,218436.9],[218937.9,218937.9],[219438.9,219438.9],[219939.9,219939.9],[220440.9,220440.9],[220941.9,220941.9],[221442.9,221442.9],[221943.9,221943.9],[222444.9,222444.9],[222945.9,222945.9],[223446.9,223446.9],[223947.9,223947.9],[224448.9,224448.9],[224949.9,224949.9],[225450.9,225450.9],[225951.9,225951.9],[226452.9,226452.9],[226953.9,226953.9],[227454.9,227454.9],[227955.9,227955.9],[228456.9,228456.9],[228957.9,228957.9],[229458.9,229458.9],[229959.9,229959.9],[230460.9,230460.9],[230961.9,230961.9],[231462.9,231462.9],[231963.9,231963.9],[232464.9,232464.9],[232965.9,232965.9],[233466.9,233466.9],[233967.9,233967.9],[234468.9,234468.9],[234969.9,234969.9],[235470.9,235470.9],[235971.9,235971.9],[236472.9,236472.9],[236973.9,236973.9],[237474.9,237474.9],[237976.0,237976.0],[238477.0,238477.0],[238978.0,238978.0],[239479.0,239479.0],[239980.0,239980.0],[240481.0,240481.0],[240982.0,240982.0],[241483.0,241483.0],[241984.0,241984.0],[242485.0,242485.0],[242986.0,242986.0],[243487.0,243487.0],[243988.0,243988.0],[244489.0,244489.0],[244990.0,244990.0],[245491.0,245491.0],[245992.0,245992.0],[246493.0,246493.0],[246994.0,246994.0],[247495.0,247495.0],[247996.0,247996.0],[248497.0,248497.0],[248998.0,248998.0],[249499.0,249499.0],[250000.0,250000.0]],\"ys\":[[20.39503892406038,36.64696107593962],[24.050423797235666,40.28557620276433],[15.884209370288211,32.08779062971179],[30.628373163802458,46.839626836197546],[29.983026935432708,46.2289730645673],[25.184574405474613,41.377425594525384],[14.189585405464587,30.404414594535407],[10.631245014943058,26.84875498505694],[26.20731954165159,42.49468045834841],[14.137803143855754,30.370196856144247],[12.702287296613681,28.92771270338632],[8.432757969325746,24.63924203067425],[24.307615335326737,40.502384664673265],[34.9422615913458,51.2177384086542],[8.122644919106738,24.33735508089326],[25.120810215408945,41.31518978459106],[38.98776049658706,55.19823950341295],[12.857616089511744,29.076383910488254],[16.590065999058474,32.87193400094152],[10.528660925598176,26.721339074401826],[3.4270387009826937,19.72096129901731],[15.093369325978287,31.31063067402171],[15.623887988472392,31.85811201152761],[10.952357353809333,27.231642646190664],[12.088146969993508,28.35385303000649],[26.17414180212351,42.38385819787649],[18.548286379958633,34.79771362004137],[9.86363973943076,26.128360260569238],[14.45002193013585,30.755978069864153],[36.95742501682821,53.17657498317179],[13.345118079203013,29.584881920796988],[20.31386638923982,36.618133610760175],[27.877026935432706,44.12297306456729],[33.278935152273085,49.477064847726915],[31.136033472759692,47.34596652724031],[39.743519052000075,56.006480947999925],[36.54313756859502,52.74286243140498],[31.234682958844086,47.543317041155916],[31.404714961378623,47.62528503862138],[29.552206658174004,45.837793341826],[13.393806056845984,29.61219394315402],[7.541683421371713,23.738316578628286],[19.43292749555869,35.741072504441306],[19.067208106312773,35.35479189368722],[40.53972622132805,56.766273778671945],[15.44338282428309,31.73661717571691],[27.003287296613678,43.22871270338632],[43.56957087949739,59.8484291205026],[31.157448788796906,47.4265512112031],[24.9561567204098,41.1478432795902],[30.37235698456213,46.58164301543786],[30.59530337349474,46.80469662650526],[29.898521009847478,46.12147899015252],[30.151841829523967,46.42815817047603],[28.303682733778906,44.55031726622109],[33.34192884504775,49.62207115495225],[6.892219545710775,23.09178045428923],[25.524655535003724,41.751344464996286],[27.79147793375646,44.02252206624353],[29.33477455800014,45.52722544199985],[21.48861614436474,37.75138385563526],[20.580680788823642,36.77531921117636],[20.13879678501236,36.36520321498764],[25.790199300002136,42.02980069999786],[33.95351610835384,50.146483891646156],[30.509199300002138,46.74880069999786],[15.572892552384003,31.873107447616],[22.244532083153956,38.447467916846044],[22.629416014162878,38.824583985837116],[41.989848760349815,58.19215123965019],[21.302085629753925,37.529914370246075],[19.356143342313345,35.63585665768665],[28.686153051398463,44.94584694860154],[31.003010649842185,47.302989350157816],[30.737062482898935,47.038937517101076],[28.270923118568028,44.48307688143196],[21.628263808531162,37.93373619146884],[28.17867746015151,44.457322539848505],[10.607648123757633,26.802351876242362],[34.47146503264388,50.66253496735612],[25.000536723104364,41.307463276895646],[26.70910427570156,42.94089572429844],[28.729228899011126,45.00077110098888],[20.040887587867196,36.315112412132805],[36.9010395557262,53.120960444273805],[15.839556077340589,32.046443922659414],[11.084549388376256,27.279450611623748],[25.89412295693704,42.115877043062966],[23.121725857320676,39.414274142679325],[19.18834297109123,35.44765702890877],[9.859622035755722,26.05837796424428],[32.32843774808964,48.587562251910356],[30.36253240318372,46.621467596816274],[3.787537534122018,20.08846246587798],[27.464106575298853,43.76789342470114],[13.473689518818725,29.666310481181277],[22.230290684903835,38.431709315096164],[30.237030302241173,46.49296969775883],[31.768650445064957,47.97934955493505],[14.684195000020894,30.917804999979104],[20.377873682775263,36.618126317224736],[24.289427137594814,40.4865728624052],[16.542050536786526,32.73994946321347],[23.789104106236273,40.00889589376373],[26.432516229859687,42.627483770140316],[24.323748413481276,40.614251586518726],[22.919849847218742,39.18615015278126],[14.148285993716492,30.36371400628351],[21.025764070242975,37.31223592975702],[33.66580528760284,49.97419471239716],[21.562693487557638,37.857306512442364],[8.83207126264613,25.033928737353868],[25.06280937753832,41.27519062246169],[20.671199731872747,36.96080026812725],[34.62637759133992,50.827622408660076],[-0.6993225398484961,15.579322539848498],[31.238803143855748,47.471196856144246],[36.36410870610837,52.559891293891624],[21.831728816994968,38.04027118300503],[7.795704924511336,24.098295075488664],[10.016346277736904,26.319653722263094],[22.210250408784937,38.489749591215066],[10.700013678549466,26.899986321450534],[26.647900809650004,42.95409919035],[17.54003673606304,33.77996326393696],[20.959932405962043,37.21006759403796],[18.716077813285416,34.941922186714585],[10.651751023746211,26.920248976253784],[26.642405908631936,42.91559409136807],[8.28762317826866,24.49037682173134],[13.250580419958156,29.463419580041844],[17.15252576891633,33.367474231083676],[0.5305648903867475,16.755435109613252],[-1.23604604519256,14.99604604519256],[8.145938130856809,24.34806186914319],[-5.657678603402171,10.56367860340217],[3.7933731638024586,20.004626836197545],[11.141946952268881,27.41805304773112],[20.81714912500324,37.02885087499676],[6.578661606792455,22.777338393207543],[11.236096193145485,27.521903806854517],[15.497908095813932,31.704091904186065],[24.312924781252125,40.55107521874787],[-17.491612702360147,-1.2703872976398536],[12.278873072717628,28.567126927282366],[14.473336577154011,30.720663422845984],[20.484577692300824,36.68742230769917],[33.64092749555869,49.94907250444131],[4.908574325358924,21.105425674641076],[17.957922279627525,34.188077720372476],[5.550707680967831,21.757292319032175],[7.536505296621355,23.743494703378644],[10.786783558999687,27.06121644100031],[22.123921189683216,38.39607881031679],[15.631300263894051,31.85869973610595],[4.973031962043708,21.166968037956295],[-5.543429120502603,10.735429120502603],[15.273818376677806,31.546181623322195],[7.905921189683218,24.178078810316784],[6.663556077340589,22.870443922659412],[17.54113388808276,33.78286611191724],[11.968255372798021,28.189744627201982],[0.7276269363692158,16.986373063630786],[3.189052163451885,19.456947836548117],[24.012733747887424,40.24726625211258],[23.733421837817346,39.99657816218265],[-4.675412394635517,11.577412394635518],[-3.961631794004578,12.231631794004578],[15.632369181866888,31.87763081813311],[9.880314688277531,26.075685311722467],[6.038517079561103,22.247482920438895],[1.0163365771540143,17.263663422845987],[21.938317001891466,38.22368299810853],[6.8516316624485185,23.134368337551482],[10.336574405474613,26.529425594525385],[15.767774558000143,31.96022544199986],[0.7579419272668648,16.986058072733137],[-9.266977746679249,6.93697774667925],[15.89426808722499,32.129731912775],[-5.582450074390049,10.61845007439005],[-5.868157736371805,10.326157736371805],[22.49103030224117,38.74696969775883],[-0.09679145866791217,16.180791458667912],[7.644588383783882,23.867411616216117],[9.140462739717861,25.43553726028214],[4.4513998986363905,20.706600101363613],[11.364745748854999,27.559254251145],[17.34834297109123,33.607657028908775],[21.42051468979865,37.611485310201346],[2.658198027611622,18.86580197238838],[10.399522873178153,26.612477126821847],[10.150003295555594,26.411996704444405],[6.149047808089129,22.39295219191087],[4.7365522977665755,20.967447702233425],[0.04813208629407839,16.29186791370592],[-6.020611502690667,10.240611502690665],[4.384757163552186,20.669242836447815],[2.2300677999577125,18.521932200042286],[12.613216576728218,28.854783423271783],[7.331570879497395,23.6104291205026],[-1.086529256948067,15.188529256948067],[7.46995759698515,23.752042403014848],[14.108465203449393,30.32153479655061],[6.476381587115071,22.71761841288493],[5.429389621054767,21.620610378945234],[-4.755352694871782,11.529352694871783],[16.553972135375965,32.754027864624035],[4.646883750971286,20.943116249028712],[22.894748413481274,39.185251586518724],[8.721115709726496,25.016884290273502],[18.07009654970752,34.35790345029248],[6.715982631318102,22.918017368681898],[11.457655634995778,27.680344365004228],[1.383198069633588,17.632801930366412],[3.3087743339410682,19.609225666058933],[8.860635188117346,25.103364811882653],[10.468949009892674,26.735050990107325],[10.434289197532312,26.663710802467687],[12.502153529881285,28.79584647011872],[6.548373163802459,22.759626836197544],[17.96043085571899,34.24756914428101],[1.721063146616137,17.914936853383864],[19.972111887462,36.207888112538],[9.280315349560697,25.533684650439305],[15.200648123757636,31.395351876242366],[14.93412295693704,31.155877043062965],[0.35821605908784626,16.587783940912153],[16.02005762705852,32.23794237294148],[19.85542085973566,36.05657914026434],[6.705948904437914,22.958051095562087],[13.089382020879889,29.28861797912011],[0.20900404990927512,16.404995950090726],[19.85372755461685,36.086272445383145],[8.845312258429683,25.134687741570314],[14.440152299945263,30.707847700054742],[18.421675815024617,34.676324184975385],[9.323580367060641,25.58441963293936],[14.308921189683216,30.581078810316782],[29.260855078992755,45.507144921007246],[18.77703347275969,34.986966527240305],[19.85946520344939,36.072534796550606],[4.764285993716491,20.97971400628351],[2.5976374753373292,18.86836252466267],[11.431283803573725,27.676716196426277],[5.939933939785918,22.204066060214082],[5.609390032376805,21.806609967623196],[28.770746335021002,44.96325366497899],[1.8951627757843852,18.098837224215615],[5.949661606792457,22.148338393207545],[5.637942630338383,21.908057369661616],[11.220087698951593,27.429912301048404],[7.305096549707521,23.592903450292482],[12.323301735388299,28.620698264611704],[20.943334199728657,37.14466580027134],[19.674501468575073,35.90949853142492],[9.48202193013585,25.787978069864153],[12.207463908849011,28.448536091150988],[15.859655994518652,32.16034400548135],[20.808348414817768,37.011651585182236],[17.288352803851385,33.485647196148605],[11.08142713759481,27.27857286240519],[17.57371861048481,33.81628138951519],[20.094710140168285,36.33528985983172],[31.964833165894092,48.16916683410591],[25.00748444528753,41.21851555471247],[15.938606188415344,32.21939381158466],[13.955830633707953,30.148169366292045],[18.349522959716815,34.58847704028319],[25.047933939785917,41.31206606021408],[23.012477933756465,39.243522066243536],[17.582346121862024,33.79765387813798],[27.601217591498845,43.82678240850115],[34.410118430845145,50.64388156915486],[25.087861655861698,41.304138344138295],[34.913859149264994,51.168140850735014],[21.791861655861698,38.0081383441383],[28.926896444192984,45.12510355580701],[21.47246797656466,37.715532023435344],[25.731271446716615,41.96472855328338],[24.335141802123506,40.54485819787649],[26.49700065408884,42.690999345911166],[37.461505296621354,53.66849470337864],[21.034622035755724,37.233377964244276],[20.144462634236596,36.39353736576341],[47.389968143906486,63.63203185609352],[29.12662319436678,45.335376805633224],[21.081561331900957,37.31843866809904],[31.42397213537597,47.62402786462403],[27.952465203449393,44.1655347965506],[30.26369348755764,46.558306512442364],[29.06920937028821,45.27279062971179],[23.57949314561024,39.79650685438976],[29.095631219483494,45.37236878051651],[23.952704309840072,40.16729569015993],[30.886833165894096,47.09116683410591],[23.833191575163937,40.09080842483606],[39.72446797656466,55.967532023435346],[31.675532083153957,47.87846791684605],[17.72540622353462,33.978593776465374],[35.38498846580792,51.633011534192065],[27.90860618841534,44.18939381158466],[22.255537713387447,38.45246228661255],[30.704549655466217,46.97345034453378],[22.074635353412432,38.27536464658757],[31.30540051540953,47.51059948459047],[28.906092807853906,45.11790719214609],[27.045774654534494,43.276225345465505],[13.418861424893633,29.709138575106365],[28.098261591345796,44.3737384086542],[30.565410472597286,46.77458952740272],[23.270923118568035,39.48307688143196],[32.34942397265412,48.58257602734588],[21.37099491875324,37.58900508124676],[21.056727554616852,37.28927244538315],[33.753408652056876,50.04459134794311],[31.699937598191944,47.95606240180806],[28.865677953627785,45.08232204637223],[27.556420123406923,43.83357987659308],[19.86198487184081,36.15001512815919],[27.55398560681084,43.84001439318915],[22.228442996960567,38.493557003039435],[34.10979801879223,50.34620198120777],[26.49547793375646,42.72652206624353],[33.709289197532314,49.93871080246768],[14.581806056845982,30.800193943154014],[35.62477455800015,51.81722544199986],[25.826114189185986,42.04988581081402],[13.500195000020893,29.7338049999791],[30.26865115664613,46.53534884335387],[17.311509899822255,33.55849010017774],[21.435653120019644,37.72234687998036],[28.79714180212351,45.0068581978765],[19.4850768650088,35.6769231349912],[42.27793759819195,58.534062401808065],[22.495714961378617,38.71628503862138],[27.876767589980894,44.173232410019104],[32.59834718414648,48.89365281585352],[25.91571311490698,42.178286885093016],[24.28786638923982,40.59213361076017],[31.1099907201629,47.3180092798371],[20.56317861877894,36.76282138122106],[22.173497521895733,38.37850247810427],[35.12281533784173,51.333184662158274],[28.635366227969847,44.91063377203016],[20.703044105363215,36.97295589463678],[20.83617925236851,37.06782074763149],[24.160087084094407,40.44991291590559],[-0.23663891968599238,15.982638919685991],[18.473244035710533,34.71075596428946],[24.78858041995816,41.00141958004185],[17.047851525347856,33.31614847465214],[26.193133235515315,42.44686676448468],[29.456742857222633,45.67525714277737],[17.688883750971286,33.985116249028714],[15.05871798862677,31.251282011373235],[16.171680788823643,32.36631921117636],[13.619287344051434,29.810712655948564],[9.09888798847239,25.333112011527604],[12.752941068311408,28.999058931688587],[13.27600384994028,29.53399615005972],[27.07118922624342,43.29281077375657],[8.902195782272976,25.111804217727027],[13.02672028830573,29.227279711694266],[14.158561331900954,30.39543866809904],[23.651104871935885,39.866895128064115],[23.022463908849012,39.26353609115099],[16.190437748089643,32.44956225191036],[37.07249567595272,53.29750432404728],[27.40142713759481,43.59857286240519],[18.69688867930287,34.89711132069712],[22.263437748089643,38.52256225191036],[9.410913821624318,25.603086178375683],[-6.310046059757198,9.982046059757199],[19.94127144671662,36.17472855328339],[28.315057114375925,44.52094288562407],[7.090435106693288,23.319564893306712],[23.42997980463373,39.642020195366264],[6.785465032643872,22.976534967356123],[21.527742857222627,37.74625714277737],[11.179424663760194,27.46857533623981],[28.84030102981069,45.039698970189306],[12.940930468959802,29.1410695310402],[6.921606734972949,23.12839326502705],[6.750224353552895,23.003775646447107],[12.226556077340586,28.43344392265941],[17.98393858564203,34.19206141435797],[19.898684055433872,36.137315944566126],[12.62192478125213,28.86007521874787],[18.693216059087852,34.922783940912154],[3.5838691336441126,19.80213086635589],[-3.0892898598317142,13.151289859831715],[2.120199731872747,18.409800268127256],[2.7972440357105324,19.034755964289467],[2.350943417710452,18.65305658228955],[15.49503892406038,31.746961075939616],[20.065313098464973,36.25668690153502],[8.506341586975052,24.705658413024942],[5.794104275701557,22.025895724298444],[13.20224037844771,29.399759621552285],[3.1809385856420267,19.389061414357975],[20.49309462001895,36.700905379981045],[15.488348586924367,31.68365141307563],[5.539909804431632,21.79809019556837],[3.2958786105870885,19.528121389412913],[26.502186651053037,42.69581334894697],[7.135094207804702,23.3289057921953],[5.311771749348868,21.572228250651133],[11.308651156646128,27.575348843353872],[8.509268237649788,24.80273176235021],[25.095883750971286,41.39211624902872],[17.467762570906594,33.66823742909341],[0.37016481167286663,16.56783518832713],[18.928300275946803,35.1716997240532],[-1.5683427304838702,14.63834273048387],[4.117162765805448,20.364837234194553],[-3.656119377526214,12.548119377526216],[13.071245767411524,29.336754232588476],[14.918651307922211,31.215348692077782],[-5.071253664978993,11.121253664978994],[12.187762570906592,28.388237429093408],[15.532632208966433,31.72536779103357],[1.9899434177104514,18.292056582289547],[3.468155844539167,19.673844155460834],[18.27186278162158,34.46813721837842],[2.6764288660399895,18.88757113396001],[4.58776849900978,20.84023150099022],[13.651348414817768,29.854651585182232],[10.053762570906592,26.254237429093408],[10.091323543354756,26.328676456645248],[7.364065999058477,23.645934000941523],[4.129745748854999,20.324254251145],[21.505923750959138,37.80007624904087],[11.665073944046796,27.8609260559532],[7.770424663760192,24.059575336239806],[0.4841433423133452,16.763856657686656],[-9.817652815853519,6.477652815853519],[-3.5225220662435373,12.708522066243537],[5.252519052000075,21.515480947999926],[13.560771749348866,29.82122825065113],[11.617574405474615,27.81042559452539],[8.70981367719291,24.958186322807087],[-3.8434624658779812,12.457462465877981],[5.181497289776074,21.474502710223923],[7.796803890308185,23.999196109691816],[10.266513794447803,26.493486205552195],[4.629713862050931,20.91028613794907],[2.595938585642026,18.804061414357975],[13.374635188117345,29.617364811882652],[6.54257647825753,22.79342352174247],[9.84199979088821,26.138000209111787],[-4.474377964244278,11.724377964244278],[15.389710140168287,31.630289859831716],[13.273500051889005,29.506499948110996],[17.074861424893633,33.365138575106364],[-1.0646001013636104,15.19060010136361],[14.024999790888213,30.32100020911179],[9.288690057293179,25.493309942706816],[13.177833165894093,29.38216683410591],[3.690861655861701,19.907138344138303],[13.808096549707518,30.09590345029248],[17.41265644390446,33.64734355609554],[13.153181538501746,29.44481846149825],[-4.206913989209525,12.076913989209526],[15.98944274022265,32.21655725977735],[10.420346121862023,26.635653878137973],[14.70100065408884,30.894999345911163],[6.6248399593620935,22.917160040637903],[-3.1525360911509885,13.088536091150988],[13.84530301642189,30.05069698357811],[13.453509899822256,29.70049010017774],[22.69919806963359,38.948801930366415],[14.118318151721816,30.341681848278185],[4.3852906849038344,20.586709315096165],[15.404536947859253,31.693463052140746],[19.423317338577473,35.63468266142253],[14.735465032643873,30.926534967356126],[6.81374285722263,23.032257142777368],[18.426833947426434,34.63516605257357],[12.318810215408943,28.513189784591056],[0.9421036069076472,17.133896393092353],[14.708869133644114,30.92713086635589],[15.373155960024562,31.566844039975436],[18.338451979136913,34.60554802086308],[28.398027008581884,44.59997299141812],[4.879536947859254,21.168463052140748],[15.222087698951592,31.431912301048406],[24.60021225224532,40.79578774775468],[21.42759523480254,37.638404765197464],[25.493291456596843,41.70670854340316],[1.6996513079222133,17.996348692077785],[14.931029176513396,31.162970823486596],[17.954255372798023,34.17574462720198],[31.169344443068688,47.43465555693131],[10.854979123550281,27.065020876449722],[17.674128626310367,33.97387137368963],[12.140845167465308,28.361154832534687],[13.294388497309335,29.555611502690667],[9.671051953490625,25.946948046509377],[11.462003295555595,27.723996704444403],[3.1438566522539038,19.366143347746096]]},\"selected\":{\"id\":\"1484\",\"type\":\"Selection\"},\"selection_policy\":{\"id\":\"1483\",\"type\":\"UnionRenderers\"}},\"id\":\"1431\",\"type\":\"ColumnDataSource\"},{\"attributes\":{\"overlay\":{\"id\":\"1489\",\"type\":\"BoxAnnotation\"}},\"id\":\"1423\",\"type\":\"BoxZoomTool\"},{\"attributes\":{\"line_color\":{\"value\":\"pink\"},\"xs\":{\"field\":\"xs\"},\"ys\":{\"field\":\"ys\"}},\"id\":\"1432\",\"type\":\"MultiLine\"},{\"attributes\":{\"text\":\"117 Set 4 Problem 2d\"},\"id\":\"1402\",\"type\":\"Title\"},{\"attributes\":{\"source\":{\"id\":\"1436\",\"type\":\"ColumnDataSource\"}},\"id\":\"1440\",\"type\":\"CDSView\"},{\"attributes\":{},\"id\":\"1424\",\"type\":\"ResetTool\"},{\"attributes\":{\"callback\":null,\"data\":{\"x\":{\"__ndarray__\":\"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\",\"dtype\":\"float64\",\"shape\":[500]},\"y\":{\"__ndarray__\":\"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\",\"dtype\":\"float64\",\"shape\":[500]}},\"selected\":{\"id\":\"1486\",\"type\":\"Selection\"},\"selection_policy\":{\"id\":\"1485\",\"type\":\"UnionRenderers\"}},\"id\":\"1436\",\"type\":\"ColumnDataSource\"},{\"attributes\":{\"callback\":null},\"id\":\"1404\",\"type\":\"DataRange1d\"},{\"attributes\":{},\"id\":\"1483\",\"type\":\"UnionRenderers\"}],\"root_ids\":[\"1401\"]},\"title\":\"Bokeh Application\",\"version\":\"1.4.0\"}};\n",
       "  var render_items = [{\"docid\":\"10f338c1-1234-4d6b-aa61-0c89d4430a4a\",\"roots\":{\"1401\":\"e5aa62a5-df1f-4a56-b77c-5b9103a9829f\"}}];\n",
       "  root.Bokeh.embed.embed_items_notebook(docs_json, render_items);\n",
       "\n",
       "  }\n",
       "  if (root.Bokeh !== undefined) {\n",
       "    embed_document(root);\n",
       "  } else {\n",
       "    var attempts = 0;\n",
       "    var timer = setInterval(function(root) {\n",
       "      if (root.Bokeh !== undefined) {\n",
       "        clearInterval(timer);\n",
       "        embed_document(root);\n",
       "      } else {\n",
       "        attempts++;\n",
       "        if (attempts > 100) {\n",
       "          clearInterval(timer);\n",
       "          console.log(\"Bokeh: ERROR: Unable to run BokehJS code because BokehJS library is missing\");\n",
       "        }\n",
       "      }\n",
       "    }, 10, root)\n",
       "  }\n",
       "})(window);"
      ],
      "application/vnd.bokehjs_exec.v0+json": ""
     },
     "metadata": {
      "application/vnd.bokehjs_exec.v0+json": {
       "id": "1401"
      }
     },
     "output_type": "display_data"
    }
   ],
   "source": [
    "x = times\n",
    "xMod = np.linspace(0,250000)\n",
    "y = obliqu\n",
    "yModErrs2 = fitErrs2\n",
    "\n",
    "p4 = figure(\n",
    "   tools=\"pan,box_zoom,reset,save\", title=\"117 Set 4 Problem 2d\",\n",
    "   x_axis_label='Time (yrs)', y_axis_label='Obliquity (in degrees)')\n",
    "\n",
    "\n",
    "err2_xs = []\n",
    "err2_ys = []\n",
    "\n",
    "for xs, ys, yerrs in zip(x, y, yModErrs2):\n",
    "    err2_xs.append((xs, xs))\n",
    "    err2_ys.append((ys - yerrs, ys + yerrs))\n",
    "\n",
    "p4.multi_line(err2_xs, err2_ys, color='pink')\n",
    "p4.circle(x,y)\n",
    "p4.line(xMod,obliFit(bestFits2,xMod),color='black',line_width=2)\n",
    "\n",
    "show(p4)"
   ]
  },
  {
   "cell_type": "markdown",
   "metadata": {},
   "source": [
    "pros -> faster, \n",
    "cons -> bad if multipeaked,"
   ]
  },
  {
   "cell_type": "code",
   "execution_count": null,
   "metadata": {},
   "outputs": [],
   "source": []
  }
 ],
 "metadata": {
  "kernelspec": {
   "display_name": "Python 3",
   "language": "python",
   "name": "python3"
  },
  "language_info": {
   "codemirror_mode": {
    "name": "ipython",
    "version": 3
   },
   "file_extension": ".py",
   "mimetype": "text/x-python",
   "name": "python",
   "nbconvert_exporter": "python",
   "pygments_lexer": "ipython3",
   "version": "3.7.6"
  }
 },
 "nbformat": 4,
 "nbformat_minor": 2
}
